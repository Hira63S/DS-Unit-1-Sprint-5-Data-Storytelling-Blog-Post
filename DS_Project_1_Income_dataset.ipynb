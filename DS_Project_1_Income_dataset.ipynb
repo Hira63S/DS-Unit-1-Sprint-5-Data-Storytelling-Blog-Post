{
  "nbformat": 4,
  "nbformat_minor": 0,
  "metadata": {
    "colab": {
      "name": "DS_Project 1_Income dataset.ipynb",
      "version": "0.3.2",
      "provenance": [],
      "include_colab_link": true
    },
    "kernelspec": {
      "name": "python3",
      "display_name": "Python 3"
    }
  },
  "cells": [
    {
      "cell_type": "markdown",
      "metadata": {
        "id": "view-in-github",
        "colab_type": "text"
      },
      "source": [
        "<a href=\"https://colab.research.google.com/github/Hira63S/DS-Unit-1-Sprint-5-Data-Storytelling-Blog-Post/blob/master/DS_Project_1_Income_dataset.ipynb\" target=\"_parent\"><img src=\"https://colab.research.google.com/assets/colab-badge.svg\" alt=\"Open In Colab\"/></a>"
      ]
    },
    {
      "metadata": {
        "id": "CI_6NQQwa5yI",
        "colab_type": "code",
        "colab": {}
      },
      "cell_type": "code",
      "source": [
        "import pandas as pd\n",
        "import numpy as np\n",
        "import matplotlib.pyplot as plt\n"
      ],
      "execution_count": 0,
      "outputs": []
    },
    {
      "metadata": {
        "id": "Vaitg9FYb8tp",
        "colab_type": "code",
        "colab": {}
      },
      "cell_type": "code",
      "source": [
        "url = 'https://raw.githubusercontent.com/Hira63S/Project-1/master/Income%20Big%20Dataset..csv'"
      ],
      "execution_count": 0,
      "outputs": []
    },
    {
      "metadata": {
        "id": "5facIi6Kb8p_",
        "colab_type": "code",
        "colab": {}
      },
      "cell_type": "code",
      "source": [
        "expenses = pd.read_csv(url)"
      ],
      "execution_count": 0,
      "outputs": []
    },
    {
      "metadata": {
        "id": "bq-TSz6qb8h7",
        "colab_type": "code",
        "outputId": "37e27337-8345-4223-88e1-8ee2d754d86c",
        "colab": {
          "base_uri": "https://localhost:8080/",
          "height": 745
        }
      },
      "cell_type": "code",
      "source": [
        "expenses.head(10)"
      ],
      "execution_count": 17,
      "outputs": [
        {
          "output_type": "execute_result",
          "data": {
            "text/html": [
              "<div>\n",
              "<style scoped>\n",
              "    .dataframe tbody tr th:only-of-type {\n",
              "        vertical-align: middle;\n",
              "    }\n",
              "\n",
              "    .dataframe tbody tr th {\n",
              "        vertical-align: top;\n",
              "    }\n",
              "\n",
              "    .dataframe thead th {\n",
              "        text-align: right;\n",
              "    }\n",
              "</style>\n",
              "<table border=\"1\" class=\"dataframe\">\n",
              "  <thead>\n",
              "    <tr style=\"text-align: right;\">\n",
              "      <th></th>\n",
              "      <th>Item</th>\n",
              "      <th>Number of consumer units (in thousands)</th>\n",
              "      <th>Income before taxes</th>\n",
              "      <th>Income after taxes</th>\n",
              "      <th>Age of reference person</th>\n",
              "      <th>Men</th>\n",
              "      <th>Women</th>\n",
              "      <th>Homeowner</th>\n",
              "      <th>With mortgage</th>\n",
              "      <th>Without mortgage</th>\n",
              "      <th>...</th>\n",
              "      <th>Income before taxes.1</th>\n",
              "      <th>Wages and Salary</th>\n",
              "      <th>Self-employment income</th>\n",
              "      <th>Social security</th>\n",
              "      <th>Interest Income</th>\n",
              "      <th>Public Assistance</th>\n",
              "      <th>Unemployment and worker compensation</th>\n",
              "      <th>Unnamed: 55</th>\n",
              "      <th>Unnamed: 56</th>\n",
              "      <th>Unnamed: 57</th>\n",
              "    </tr>\n",
              "  </thead>\n",
              "  <tbody>\n",
              "    <tr>\n",
              "      <th>0</th>\n",
              "      <td>All consumer units</td>\n",
              "      <td>130,001</td>\n",
              "      <td>$73,573</td>\n",
              "      <td>63,606</td>\n",
              "      <td>50.9</td>\n",
              "      <td>47</td>\n",
              "      <td>53</td>\n",
              "      <td>63</td>\n",
              "      <td>36</td>\n",
              "      <td>27</td>\n",
              "      <td>...</td>\n",
              "      <td>$73,573</td>\n",
              "      <td>57,590</td>\n",
              "      <td>4,506</td>\n",
              "      <td>8,300</td>\n",
              "      <td>1,910</td>\n",
              "      <td>460</td>\n",
              "      <td>457</td>\n",
              "      <td>NaN</td>\n",
              "      <td>NaN</td>\n",
              "      <td>NaN</td>\n",
              "    </tr>\n",
              "    <tr>\n",
              "      <th>1</th>\n",
              "      <td>Less than $15,000</td>\n",
              "      <td>16,887</td>\n",
              "      <td>$7,860</td>\n",
              "      <td>8,229</td>\n",
              "      <td>51.2</td>\n",
              "      <td>39</td>\n",
              "      <td>61</td>\n",
              "      <td>36</td>\n",
              "      <td>11</td>\n",
              "      <td>25</td>\n",
              "      <td>...</td>\n",
              "      <td>$7,860</td>\n",
              "      <td>2,156</td>\n",
              "      <td>56</td>\n",
              "      <td>3,747</td>\n",
              "      <td>77</td>\n",
              "      <td>1,120</td>\n",
              "      <td>182</td>\n",
              "      <td>NaN</td>\n",
              "      <td>NaN</td>\n",
              "      <td>NaN</td>\n",
              "    </tr>\n",
              "    <tr>\n",
              "      <th>2</th>\n",
              "      <td>$15,000 to $29,999</td>\n",
              "      <td>22,385</td>\n",
              "      <td>$22,315</td>\n",
              "      <td>23,194</td>\n",
              "      <td>57.2</td>\n",
              "      <td>39</td>\n",
              "      <td>61</td>\n",
              "      <td>52</td>\n",
              "      <td>15</td>\n",
              "      <td>37</td>\n",
              "      <td>...</td>\n",
              "      <td>$22,315</td>\n",
              "      <td>9,381</td>\n",
              "      <td>520</td>\n",
              "      <td>10,601</td>\n",
              "      <td>246</td>\n",
              "      <td>812</td>\n",
              "      <td>346</td>\n",
              "      <td>NaN</td>\n",
              "      <td>NaN</td>\n",
              "      <td>NaN</td>\n",
              "    </tr>\n",
              "    <tr>\n",
              "      <th>3</th>\n",
              "      <td>$30,000 to $39,999</td>\n",
              "      <td>13,039</td>\n",
              "      <td>$34,685</td>\n",
              "      <td>34,755</td>\n",
              "      <td>52.8</td>\n",
              "      <td>44</td>\n",
              "      <td>56</td>\n",
              "      <td>56</td>\n",
              "      <td>21</td>\n",
              "      <td>35</td>\n",
              "      <td>...</td>\n",
              "      <td>$34,685</td>\n",
              "      <td>20,724</td>\n",
              "      <td>1,032</td>\n",
              "      <td>11,318</td>\n",
              "      <td>499</td>\n",
              "      <td>503</td>\n",
              "      <td>427</td>\n",
              "      <td>NaN</td>\n",
              "      <td>NaN</td>\n",
              "      <td>NaN</td>\n",
              "    </tr>\n",
              "    <tr>\n",
              "      <th>4</th>\n",
              "      <td>$40,000 to $49,999</td>\n",
              "      <td>10,655</td>\n",
              "      <td>$44,771</td>\n",
              "      <td>43,173</td>\n",
              "      <td>50.9</td>\n",
              "      <td>45</td>\n",
              "      <td>55</td>\n",
              "      <td>61</td>\n",
              "      <td>32</td>\n",
              "      <td>29</td>\n",
              "      <td>...</td>\n",
              "      <td>$44,771</td>\n",
              "      <td>30,217</td>\n",
              "      <td>1,437</td>\n",
              "      <td>11,033</td>\n",
              "      <td>951</td>\n",
              "      <td>467</td>\n",
              "      <td>348</td>\n",
              "      <td>NaN</td>\n",
              "      <td>NaN</td>\n",
              "      <td>NaN</td>\n",
              "    </tr>\n",
              "    <tr>\n",
              "      <th>5</th>\n",
              "      <td>$50,000 to $69,999</td>\n",
              "      <td>17,068</td>\n",
              "      <td>$59,382</td>\n",
              "      <td>55,025</td>\n",
              "      <td>48.5</td>\n",
              "      <td>48</td>\n",
              "      <td>52</td>\n",
              "      <td>62</td>\n",
              "      <td>37</td>\n",
              "      <td>25</td>\n",
              "      <td>...</td>\n",
              "      <td>$59,382</td>\n",
              "      <td>45,910</td>\n",
              "      <td>2,475</td>\n",
              "      <td>9,070</td>\n",
              "      <td>924</td>\n",
              "      <td>276</td>\n",
              "      <td>384</td>\n",
              "      <td>NaN</td>\n",
              "      <td>NaN</td>\n",
              "      <td>NaN</td>\n",
              "    </tr>\n",
              "    <tr>\n",
              "      <th>6</th>\n",
              "      <td>$70,000 to $99,999</td>\n",
              "      <td>19,324</td>\n",
              "      <td>$83,829</td>\n",
              "      <td>75,075</td>\n",
              "      <td>47.8</td>\n",
              "      <td>52</td>\n",
              "      <td>48</td>\n",
              "      <td>71</td>\n",
              "      <td>49</td>\n",
              "      <td>21</td>\n",
              "      <td>...</td>\n",
              "      <td>$83,829</td>\n",
              "      <td>69,738</td>\n",
              "      <td>4,088</td>\n",
              "      <td>7,515</td>\n",
              "      <td>1,320</td>\n",
              "      <td>256</td>\n",
              "      <td>750</td>\n",
              "      <td>NaN</td>\n",
              "      <td>NaN</td>\n",
              "      <td>NaN</td>\n",
              "    </tr>\n",
              "    <tr>\n",
              "      <th>7</th>\n",
              "      <td>$100,000 to $149,999</td>\n",
              "      <td>16,501</td>\n",
              "      <td>$120,288</td>\n",
              "      <td>103,729</td>\n",
              "      <td>47.8</td>\n",
              "      <td>56</td>\n",
              "      <td>44</td>\n",
              "      <td>82</td>\n",
              "      <td>63</td>\n",
              "      <td>19</td>\n",
              "      <td>...</td>\n",
              "      <td>$120,288</td>\n",
              "      <td>103,526</td>\n",
              "      <td>6,294</td>\n",
              "      <td>6,976</td>\n",
              "      <td>2,530</td>\n",
              "      <td>67</td>\n",
              "      <td>642</td>\n",
              "      <td>NaN</td>\n",
              "      <td>NaN</td>\n",
              "      <td>NaN</td>\n",
              "    </tr>\n",
              "    <tr>\n",
              "      <th>8</th>\n",
              "      <td>$150,000 to $199,999</td>\n",
              "      <td>6,947</td>\n",
              "      <td>$170,234</td>\n",
              "      <td>140,346</td>\n",
              "      <td>48.8</td>\n",
              "      <td>60</td>\n",
              "      <td>40</td>\n",
              "      <td>88</td>\n",
              "      <td>67</td>\n",
              "      <td>21</td>\n",
              "      <td>...</td>\n",
              "      <td>$170,234</td>\n",
              "      <td>148,984</td>\n",
              "      <td>11,006</td>\n",
              "      <td>5,555</td>\n",
              "      <td>4,163</td>\n",
              "      <td>23</td>\n",
              "      <td>370</td>\n",
              "      <td>NaN</td>\n",
              "      <td>NaN</td>\n",
              "      <td>NaN</td>\n",
              "    </tr>\n",
              "    <tr>\n",
              "      <th>9</th>\n",
              "      <td>$200,000 and more</td>\n",
              "      <td>7,195</td>\n",
              "      <td>$306,051</td>\n",
              "      <td>225,284</td>\n",
              "      <td>50.7</td>\n",
              "      <td>59</td>\n",
              "      <td>41</td>\n",
              "      <td>88</td>\n",
              "      <td>69</td>\n",
              "      <td>19</td>\n",
              "      <td>...</td>\n",
              "      <td>$306,051</td>\n",
              "      <td>246,503</td>\n",
              "      <td>33,755</td>\n",
              "      <td>8,275</td>\n",
              "      <td>15,682</td>\n",
              "      <td>37</td>\n",
              "      <td>715</td>\n",
              "      <td>NaN</td>\n",
              "      <td>NaN</td>\n",
              "      <td>NaN</td>\n",
              "    </tr>\n",
              "  </tbody>\n",
              "</table>\n",
              "<p>10 rows × 58 columns</p>\n",
              "</div>"
            ],
            "text/plain": [
              "                   Item Number of consumer units (in thousands)  \\\n",
              "0    All consumer units                                 130,001   \n",
              "1     Less than $15,000                                  16,887   \n",
              "2    $15,000 to $29,999                                  22,385   \n",
              "3    $30,000 to $39,999                                  13,039   \n",
              "4    $40,000 to $49,999                                  10,655   \n",
              "5    $50,000 to $69,999                                  17,068   \n",
              "6    $70,000 to $99,999                                  19,324   \n",
              "7  $100,000 to $149,999                                  16,501   \n",
              "8  $150,000 to $199,999                                   6,947   \n",
              "9     $200,000 and more                                   7,195   \n",
              "\n",
              "  Income before taxes Income after taxes  Age of reference person  Men  Women  \\\n",
              "0            $73,573              63,606                     50.9   47     53   \n",
              "1             $7,860               8,229                     51.2   39     61   \n",
              "2            $22,315              23,194                     57.2   39     61   \n",
              "3            $34,685              34,755                     52.8   44     56   \n",
              "4            $44,771              43,173                     50.9   45     55   \n",
              "5            $59,382              55,025                     48.5   48     52   \n",
              "6            $83,829              75,075                     47.8   52     48   \n",
              "7           $120,288             103,729                     47.8   56     44   \n",
              "8           $170,234             140,346                     48.8   60     40   \n",
              "9           $306,051             225,284                     50.7   59     41   \n",
              "\n",
              "   Homeowner  With mortgage  Without mortgage     ...      \\\n",
              "0         63             36                27     ...       \n",
              "1         36             11                25     ...       \n",
              "2         52             15                37     ...       \n",
              "3         56             21                35     ...       \n",
              "4         61             32                29     ...       \n",
              "5         62             37                25     ...       \n",
              "6         71             49                21     ...       \n",
              "7         82             63                19     ...       \n",
              "8         88             67                21     ...       \n",
              "9         88             69                19     ...       \n",
              "\n",
              "   Income before taxes.1  Wages and Salary  Self-employment income  \\\n",
              "0               $73,573             57,590                   4,506   \n",
              "1                $7,860              2,156                      56   \n",
              "2               $22,315              9,381                     520   \n",
              "3               $34,685             20,724                   1,032   \n",
              "4               $44,771             30,217                   1,437   \n",
              "5               $59,382             45,910                   2,475   \n",
              "6               $83,829             69,738                   4,088   \n",
              "7              $120,288            103,526                   6,294   \n",
              "8              $170,234            148,984                  11,006   \n",
              "9              $306,051            246,503                  33,755   \n",
              "\n",
              "   Social security  Interest Income Public Assistance  \\\n",
              "0            8,300            1,910               460   \n",
              "1            3,747               77             1,120   \n",
              "2           10,601              246               812   \n",
              "3           11,318              499               503   \n",
              "4           11,033              951               467   \n",
              "5            9,070              924               276   \n",
              "6            7,515            1,320               256   \n",
              "7            6,976            2,530                67   \n",
              "8            5,555            4,163                23   \n",
              "9            8,275           15,682                37   \n",
              "\n",
              "   Unemployment and worker compensation  Unnamed: 55 Unnamed: 56 Unnamed: 57  \n",
              "0                                   457          NaN         NaN         NaN  \n",
              "1                                   182          NaN         NaN         NaN  \n",
              "2                                   346          NaN         NaN         NaN  \n",
              "3                                   427          NaN         NaN         NaN  \n",
              "4                                   348          NaN         NaN         NaN  \n",
              "5                                   384          NaN         NaN         NaN  \n",
              "6                                   750          NaN         NaN         NaN  \n",
              "7                                   642          NaN         NaN         NaN  \n",
              "8                                   370          NaN         NaN         NaN  \n",
              "9                                   715          NaN         NaN         NaN  \n",
              "\n",
              "[10 rows x 58 columns]"
            ]
          },
          "metadata": {
            "tags": []
          },
          "execution_count": 17
        }
      ]
    },
    {
      "metadata": {
        "id": "Axb2rd5Ve9An",
        "colab_type": "code",
        "colab": {
          "base_uri": "https://localhost:8080/",
          "height": 1130
        },
        "outputId": "b06f3628-ca91-42b9-d0e5-95cf15c205d6"
      },
      "cell_type": "code",
      "source": [
        "expenses.corr()"
      ],
      "execution_count": 18,
      "outputs": [
        {
          "output_type": "execute_result",
          "data": {
            "text/html": [
              "<div>\n",
              "<style scoped>\n",
              "    .dataframe tbody tr th:only-of-type {\n",
              "        vertical-align: middle;\n",
              "    }\n",
              "\n",
              "    .dataframe tbody tr th {\n",
              "        vertical-align: top;\n",
              "    }\n",
              "\n",
              "    .dataframe thead th {\n",
              "        text-align: right;\n",
              "    }\n",
              "</style>\n",
              "<table border=\"1\" class=\"dataframe\">\n",
              "  <thead>\n",
              "    <tr style=\"text-align: right;\">\n",
              "      <th></th>\n",
              "      <th>Age of reference person</th>\n",
              "      <th>Men</th>\n",
              "      <th>Women</th>\n",
              "      <th>Homeowner</th>\n",
              "      <th>With mortgage</th>\n",
              "      <th>Without mortgage</th>\n",
              "      <th>Renter</th>\n",
              "      <th>Black or African-American</th>\n",
              "      <th>White, Asian, and all other races</th>\n",
              "      <th>Hispanic or Latino</th>\n",
              "      <th>...</th>\n",
              "      <th>Gas</th>\n",
              "      <th>Fuel oil</th>\n",
              "      <th>Laundry and cleaning products</th>\n",
              "      <th>Other household products</th>\n",
              "      <th>Vehicle finance charges</th>\n",
              "      <th>Reading</th>\n",
              "      <th>Unemployment and worker compensation</th>\n",
              "      <th>Unnamed: 55</th>\n",
              "      <th>Unnamed: 56</th>\n",
              "      <th>Unnamed: 57</th>\n",
              "    </tr>\n",
              "  </thead>\n",
              "  <tbody>\n",
              "    <tr>\n",
              "      <th>Age of reference person</th>\n",
              "      <td>1.000000</td>\n",
              "      <td>-0.664706</td>\n",
              "      <td>0.664706</td>\n",
              "      <td>-0.524180</td>\n",
              "      <td>-0.655910</td>\n",
              "      <td>0.848371</td>\n",
              "      <td>0.524180</td>\n",
              "      <td>0.556327</td>\n",
              "      <td>-0.556327</td>\n",
              "      <td>0.328589</td>\n",
              "      <td>...</td>\n",
              "      <td>-0.417094</td>\n",
              "      <td>-0.389730</td>\n",
              "      <td>-0.438791</td>\n",
              "      <td>-0.409568</td>\n",
              "      <td>-0.616340</td>\n",
              "      <td>-0.377313</td>\n",
              "      <td>-0.430045</td>\n",
              "      <td>NaN</td>\n",
              "      <td>NaN</td>\n",
              "      <td>NaN</td>\n",
              "    </tr>\n",
              "    <tr>\n",
              "      <th>Men</th>\n",
              "      <td>-0.664706</td>\n",
              "      <td>1.000000</td>\n",
              "      <td>-1.000000</td>\n",
              "      <td>0.969008</td>\n",
              "      <td>0.990940</td>\n",
              "      <td>-0.796943</td>\n",
              "      <td>-0.969008</td>\n",
              "      <td>-0.957188</td>\n",
              "      <td>0.957188</td>\n",
              "      <td>-0.880608</td>\n",
              "      <td>...</td>\n",
              "      <td>0.936235</td>\n",
              "      <td>0.932303</td>\n",
              "      <td>0.948662</td>\n",
              "      <td>0.926027</td>\n",
              "      <td>0.994795</td>\n",
              "      <td>0.856486</td>\n",
              "      <td>0.663101</td>\n",
              "      <td>NaN</td>\n",
              "      <td>NaN</td>\n",
              "      <td>NaN</td>\n",
              "    </tr>\n",
              "    <tr>\n",
              "      <th>Women</th>\n",
              "      <td>0.664706</td>\n",
              "      <td>-1.000000</td>\n",
              "      <td>1.000000</td>\n",
              "      <td>-0.969008</td>\n",
              "      <td>-0.990940</td>\n",
              "      <td>0.796943</td>\n",
              "      <td>0.969008</td>\n",
              "      <td>0.957188</td>\n",
              "      <td>-0.957188</td>\n",
              "      <td>0.880608</td>\n",
              "      <td>...</td>\n",
              "      <td>-0.936235</td>\n",
              "      <td>-0.932303</td>\n",
              "      <td>-0.948662</td>\n",
              "      <td>-0.926027</td>\n",
              "      <td>-0.994795</td>\n",
              "      <td>-0.856486</td>\n",
              "      <td>-0.663101</td>\n",
              "      <td>NaN</td>\n",
              "      <td>NaN</td>\n",
              "      <td>NaN</td>\n",
              "    </tr>\n",
              "    <tr>\n",
              "      <th>Homeowner</th>\n",
              "      <td>-0.524180</td>\n",
              "      <td>0.969008</td>\n",
              "      <td>-0.969008</td>\n",
              "      <td>1.000000</td>\n",
              "      <td>0.975683</td>\n",
              "      <td>-0.662442</td>\n",
              "      <td>-1.000000</td>\n",
              "      <td>-0.982067</td>\n",
              "      <td>0.982067</td>\n",
              "      <td>-0.865587</td>\n",
              "      <td>...</td>\n",
              "      <td>0.944973</td>\n",
              "      <td>0.941791</td>\n",
              "      <td>0.949177</td>\n",
              "      <td>0.920493</td>\n",
              "      <td>0.972876</td>\n",
              "      <td>0.841881</td>\n",
              "      <td>0.699352</td>\n",
              "      <td>NaN</td>\n",
              "      <td>NaN</td>\n",
              "      <td>NaN</td>\n",
              "    </tr>\n",
              "    <tr>\n",
              "      <th>With mortgage</th>\n",
              "      <td>-0.655910</td>\n",
              "      <td>0.990940</td>\n",
              "      <td>-0.990940</td>\n",
              "      <td>0.975683</td>\n",
              "      <td>1.000000</td>\n",
              "      <td>-0.810182</td>\n",
              "      <td>-0.975683</td>\n",
              "      <td>-0.967631</td>\n",
              "      <td>0.967631</td>\n",
              "      <td>-0.872527</td>\n",
              "      <td>...</td>\n",
              "      <td>0.937130</td>\n",
              "      <td>0.930176</td>\n",
              "      <td>0.928025</td>\n",
              "      <td>0.917732</td>\n",
              "      <td>0.991174</td>\n",
              "      <td>0.860751</td>\n",
              "      <td>0.697088</td>\n",
              "      <td>NaN</td>\n",
              "      <td>NaN</td>\n",
              "      <td>NaN</td>\n",
              "    </tr>\n",
              "    <tr>\n",
              "      <th>Without mortgage</th>\n",
              "      <td>0.848371</td>\n",
              "      <td>-0.796943</td>\n",
              "      <td>0.796943</td>\n",
              "      <td>-0.662442</td>\n",
              "      <td>-0.810182</td>\n",
              "      <td>1.000000</td>\n",
              "      <td>0.662442</td>\n",
              "      <td>0.682080</td>\n",
              "      <td>-0.682080</td>\n",
              "      <td>0.662531</td>\n",
              "      <td>...</td>\n",
              "      <td>-0.672508</td>\n",
              "      <td>-0.654061</td>\n",
              "      <td>-0.634951</td>\n",
              "      <td>-0.668134</td>\n",
              "      <td>-0.784740</td>\n",
              "      <td>-0.686217</td>\n",
              "      <td>-0.536781</td>\n",
              "      <td>NaN</td>\n",
              "      <td>NaN</td>\n",
              "      <td>NaN</td>\n",
              "    </tr>\n",
              "    <tr>\n",
              "      <th>Renter</th>\n",
              "      <td>0.524180</td>\n",
              "      <td>-0.969008</td>\n",
              "      <td>0.969008</td>\n",
              "      <td>-1.000000</td>\n",
              "      <td>-0.975683</td>\n",
              "      <td>0.662442</td>\n",
              "      <td>1.000000</td>\n",
              "      <td>0.982067</td>\n",
              "      <td>-0.982067</td>\n",
              "      <td>0.865587</td>\n",
              "      <td>...</td>\n",
              "      <td>-0.944973</td>\n",
              "      <td>-0.941791</td>\n",
              "      <td>-0.949177</td>\n",
              "      <td>-0.920493</td>\n",
              "      <td>-0.972876</td>\n",
              "      <td>-0.841881</td>\n",
              "      <td>-0.699352</td>\n",
              "      <td>NaN</td>\n",
              "      <td>NaN</td>\n",
              "      <td>NaN</td>\n",
              "    </tr>\n",
              "    <tr>\n",
              "      <th>Black or African-American</th>\n",
              "      <td>0.556327</td>\n",
              "      <td>-0.957188</td>\n",
              "      <td>0.957188</td>\n",
              "      <td>-0.982067</td>\n",
              "      <td>-0.967631</td>\n",
              "      <td>0.682080</td>\n",
              "      <td>0.982067</td>\n",
              "      <td>1.000000</td>\n",
              "      <td>-1.000000</td>\n",
              "      <td>0.837859</td>\n",
              "      <td>...</td>\n",
              "      <td>-0.910044</td>\n",
              "      <td>-0.930571</td>\n",
              "      <td>-0.907257</td>\n",
              "      <td>-0.895659</td>\n",
              "      <td>-0.963943</td>\n",
              "      <td>-0.803937</td>\n",
              "      <td>-0.623209</td>\n",
              "      <td>NaN</td>\n",
              "      <td>NaN</td>\n",
              "      <td>NaN</td>\n",
              "    </tr>\n",
              "    <tr>\n",
              "      <th>White, Asian, and all other races</th>\n",
              "      <td>-0.556327</td>\n",
              "      <td>0.957188</td>\n",
              "      <td>-0.957188</td>\n",
              "      <td>0.982067</td>\n",
              "      <td>0.967631</td>\n",
              "      <td>-0.682080</td>\n",
              "      <td>-0.982067</td>\n",
              "      <td>-1.000000</td>\n",
              "      <td>1.000000</td>\n",
              "      <td>-0.837859</td>\n",
              "      <td>...</td>\n",
              "      <td>0.910044</td>\n",
              "      <td>0.930571</td>\n",
              "      <td>0.907257</td>\n",
              "      <td>0.895659</td>\n",
              "      <td>0.963943</td>\n",
              "      <td>0.803937</td>\n",
              "      <td>0.623209</td>\n",
              "      <td>NaN</td>\n",
              "      <td>NaN</td>\n",
              "      <td>NaN</td>\n",
              "    </tr>\n",
              "    <tr>\n",
              "      <th>Hispanic or Latino</th>\n",
              "      <td>0.328589</td>\n",
              "      <td>-0.880608</td>\n",
              "      <td>0.880608</td>\n",
              "      <td>-0.865587</td>\n",
              "      <td>-0.872527</td>\n",
              "      <td>0.662531</td>\n",
              "      <td>0.865587</td>\n",
              "      <td>0.837859</td>\n",
              "      <td>-0.837859</td>\n",
              "      <td>1.000000</td>\n",
              "      <td>...</td>\n",
              "      <td>-0.925777</td>\n",
              "      <td>-0.968847</td>\n",
              "      <td>-0.925865</td>\n",
              "      <td>-0.911667</td>\n",
              "      <td>-0.911764</td>\n",
              "      <td>-0.859602</td>\n",
              "      <td>-0.513853</td>\n",
              "      <td>NaN</td>\n",
              "      <td>NaN</td>\n",
              "      <td>NaN</td>\n",
              "    </tr>\n",
              "    <tr>\n",
              "      <th>Not Hispanic or Latino</th>\n",
              "      <td>-0.328589</td>\n",
              "      <td>0.880608</td>\n",
              "      <td>-0.880608</td>\n",
              "      <td>0.865587</td>\n",
              "      <td>0.872527</td>\n",
              "      <td>-0.662531</td>\n",
              "      <td>-0.865587</td>\n",
              "      <td>-0.837859</td>\n",
              "      <td>0.837859</td>\n",
              "      <td>-1.000000</td>\n",
              "      <td>...</td>\n",
              "      <td>0.925777</td>\n",
              "      <td>0.968847</td>\n",
              "      <td>0.925865</td>\n",
              "      <td>0.911667</td>\n",
              "      <td>0.911764</td>\n",
              "      <td>0.859602</td>\n",
              "      <td>0.513853</td>\n",
              "      <td>NaN</td>\n",
              "      <td>NaN</td>\n",
              "      <td>NaN</td>\n",
              "    </tr>\n",
              "    <tr>\n",
              "      <th>High school (9-12)</th>\n",
              "      <td>0.639802</td>\n",
              "      <td>-0.987988</td>\n",
              "      <td>0.987988</td>\n",
              "      <td>-0.956354</td>\n",
              "      <td>-0.990835</td>\n",
              "      <td>0.828001</td>\n",
              "      <td>0.956354</td>\n",
              "      <td>0.943458</td>\n",
              "      <td>-0.943458</td>\n",
              "      <td>0.890406</td>\n",
              "      <td>...</td>\n",
              "      <td>-0.958184</td>\n",
              "      <td>-0.936907</td>\n",
              "      <td>-0.939587</td>\n",
              "      <td>-0.949493</td>\n",
              "      <td>-0.987371</td>\n",
              "      <td>-0.911233</td>\n",
              "      <td>-0.676344</td>\n",
              "      <td>NaN</td>\n",
              "      <td>NaN</td>\n",
              "      <td>NaN</td>\n",
              "    </tr>\n",
              "    <tr>\n",
              "      <th>College</th>\n",
              "      <td>-0.645682</td>\n",
              "      <td>0.992358</td>\n",
              "      <td>-0.992358</td>\n",
              "      <td>0.969670</td>\n",
              "      <td>0.995566</td>\n",
              "      <td>-0.810856</td>\n",
              "      <td>-0.969670</td>\n",
              "      <td>-0.953313</td>\n",
              "      <td>0.953313</td>\n",
              "      <td>-0.878433</td>\n",
              "      <td>...</td>\n",
              "      <td>0.954166</td>\n",
              "      <td>0.930502</td>\n",
              "      <td>0.944649</td>\n",
              "      <td>0.940520</td>\n",
              "      <td>0.989002</td>\n",
              "      <td>0.896510</td>\n",
              "      <td>0.709590</td>\n",
              "      <td>NaN</td>\n",
              "      <td>NaN</td>\n",
              "      <td>NaN</td>\n",
              "    </tr>\n",
              "    <tr>\n",
              "      <th>Gas</th>\n",
              "      <td>-0.417094</td>\n",
              "      <td>0.936235</td>\n",
              "      <td>-0.936235</td>\n",
              "      <td>0.944973</td>\n",
              "      <td>0.937130</td>\n",
              "      <td>-0.672508</td>\n",
              "      <td>-0.944973</td>\n",
              "      <td>-0.910044</td>\n",
              "      <td>0.910044</td>\n",
              "      <td>-0.925777</td>\n",
              "      <td>...</td>\n",
              "      <td>1.000000</td>\n",
              "      <td>0.966614</td>\n",
              "      <td>0.975844</td>\n",
              "      <td>0.978220</td>\n",
              "      <td>0.944946</td>\n",
              "      <td>0.959061</td>\n",
              "      <td>0.643880</td>\n",
              "      <td>NaN</td>\n",
              "      <td>NaN</td>\n",
              "      <td>NaN</td>\n",
              "    </tr>\n",
              "    <tr>\n",
              "      <th>Fuel oil</th>\n",
              "      <td>-0.389730</td>\n",
              "      <td>0.932303</td>\n",
              "      <td>-0.932303</td>\n",
              "      <td>0.941791</td>\n",
              "      <td>0.930176</td>\n",
              "      <td>-0.654061</td>\n",
              "      <td>-0.941791</td>\n",
              "      <td>-0.930571</td>\n",
              "      <td>0.930571</td>\n",
              "      <td>-0.968847</td>\n",
              "      <td>...</td>\n",
              "      <td>0.966614</td>\n",
              "      <td>1.000000</td>\n",
              "      <td>0.957428</td>\n",
              "      <td>0.949276</td>\n",
              "      <td>0.957178</td>\n",
              "      <td>0.880463</td>\n",
              "      <td>0.522432</td>\n",
              "      <td>NaN</td>\n",
              "      <td>NaN</td>\n",
              "      <td>NaN</td>\n",
              "    </tr>\n",
              "    <tr>\n",
              "      <th>Laundry and cleaning products</th>\n",
              "      <td>-0.438791</td>\n",
              "      <td>0.948662</td>\n",
              "      <td>-0.948662</td>\n",
              "      <td>0.949177</td>\n",
              "      <td>0.928025</td>\n",
              "      <td>-0.634951</td>\n",
              "      <td>-0.949177</td>\n",
              "      <td>-0.907257</td>\n",
              "      <td>0.907257</td>\n",
              "      <td>-0.925865</td>\n",
              "      <td>...</td>\n",
              "      <td>0.975844</td>\n",
              "      <td>0.957428</td>\n",
              "      <td>1.000000</td>\n",
              "      <td>0.952306</td>\n",
              "      <td>0.948932</td>\n",
              "      <td>0.902496</td>\n",
              "      <td>0.642679</td>\n",
              "      <td>NaN</td>\n",
              "      <td>NaN</td>\n",
              "      <td>NaN</td>\n",
              "    </tr>\n",
              "    <tr>\n",
              "      <th>Other household products</th>\n",
              "      <td>-0.409568</td>\n",
              "      <td>0.926027</td>\n",
              "      <td>-0.926027</td>\n",
              "      <td>0.920493</td>\n",
              "      <td>0.917732</td>\n",
              "      <td>-0.668134</td>\n",
              "      <td>-0.920493</td>\n",
              "      <td>-0.895659</td>\n",
              "      <td>0.895659</td>\n",
              "      <td>-0.911667</td>\n",
              "      <td>...</td>\n",
              "      <td>0.978220</td>\n",
              "      <td>0.949276</td>\n",
              "      <td>0.952306</td>\n",
              "      <td>1.000000</td>\n",
              "      <td>0.936600</td>\n",
              "      <td>0.963251</td>\n",
              "      <td>0.615120</td>\n",
              "      <td>NaN</td>\n",
              "      <td>NaN</td>\n",
              "      <td>NaN</td>\n",
              "    </tr>\n",
              "    <tr>\n",
              "      <th>Vehicle finance charges</th>\n",
              "      <td>-0.616340</td>\n",
              "      <td>0.994795</td>\n",
              "      <td>-0.994795</td>\n",
              "      <td>0.972876</td>\n",
              "      <td>0.991174</td>\n",
              "      <td>-0.784740</td>\n",
              "      <td>-0.972876</td>\n",
              "      <td>-0.963943</td>\n",
              "      <td>0.963943</td>\n",
              "      <td>-0.911764</td>\n",
              "      <td>...</td>\n",
              "      <td>0.944946</td>\n",
              "      <td>0.957178</td>\n",
              "      <td>0.948932</td>\n",
              "      <td>0.936600</td>\n",
              "      <td>1.000000</td>\n",
              "      <td>0.860788</td>\n",
              "      <td>0.638179</td>\n",
              "      <td>NaN</td>\n",
              "      <td>NaN</td>\n",
              "      <td>NaN</td>\n",
              "    </tr>\n",
              "    <tr>\n",
              "      <th>Reading</th>\n",
              "      <td>-0.377313</td>\n",
              "      <td>0.856486</td>\n",
              "      <td>-0.856486</td>\n",
              "      <td>0.841881</td>\n",
              "      <td>0.860751</td>\n",
              "      <td>-0.686217</td>\n",
              "      <td>-0.841881</td>\n",
              "      <td>-0.803937</td>\n",
              "      <td>0.803937</td>\n",
              "      <td>-0.859602</td>\n",
              "      <td>...</td>\n",
              "      <td>0.959061</td>\n",
              "      <td>0.880463</td>\n",
              "      <td>0.902496</td>\n",
              "      <td>0.963251</td>\n",
              "      <td>0.860788</td>\n",
              "      <td>1.000000</td>\n",
              "      <td>0.653034</td>\n",
              "      <td>NaN</td>\n",
              "      <td>NaN</td>\n",
              "      <td>NaN</td>\n",
              "    </tr>\n",
              "    <tr>\n",
              "      <th>Unemployment and worker compensation</th>\n",
              "      <td>-0.430045</td>\n",
              "      <td>0.663101</td>\n",
              "      <td>-0.663101</td>\n",
              "      <td>0.699352</td>\n",
              "      <td>0.697088</td>\n",
              "      <td>-0.536781</td>\n",
              "      <td>-0.699352</td>\n",
              "      <td>-0.623209</td>\n",
              "      <td>0.623209</td>\n",
              "      <td>-0.513853</td>\n",
              "      <td>...</td>\n",
              "      <td>0.643880</td>\n",
              "      <td>0.522432</td>\n",
              "      <td>0.642679</td>\n",
              "      <td>0.615120</td>\n",
              "      <td>0.638179</td>\n",
              "      <td>0.653034</td>\n",
              "      <td>1.000000</td>\n",
              "      <td>NaN</td>\n",
              "      <td>NaN</td>\n",
              "      <td>NaN</td>\n",
              "    </tr>\n",
              "    <tr>\n",
              "      <th>Unnamed: 55</th>\n",
              "      <td>NaN</td>\n",
              "      <td>NaN</td>\n",
              "      <td>NaN</td>\n",
              "      <td>NaN</td>\n",
              "      <td>NaN</td>\n",
              "      <td>NaN</td>\n",
              "      <td>NaN</td>\n",
              "      <td>NaN</td>\n",
              "      <td>NaN</td>\n",
              "      <td>NaN</td>\n",
              "      <td>...</td>\n",
              "      <td>NaN</td>\n",
              "      <td>NaN</td>\n",
              "      <td>NaN</td>\n",
              "      <td>NaN</td>\n",
              "      <td>NaN</td>\n",
              "      <td>NaN</td>\n",
              "      <td>NaN</td>\n",
              "      <td>NaN</td>\n",
              "      <td>NaN</td>\n",
              "      <td>NaN</td>\n",
              "    </tr>\n",
              "    <tr>\n",
              "      <th>Unnamed: 56</th>\n",
              "      <td>NaN</td>\n",
              "      <td>NaN</td>\n",
              "      <td>NaN</td>\n",
              "      <td>NaN</td>\n",
              "      <td>NaN</td>\n",
              "      <td>NaN</td>\n",
              "      <td>NaN</td>\n",
              "      <td>NaN</td>\n",
              "      <td>NaN</td>\n",
              "      <td>NaN</td>\n",
              "      <td>...</td>\n",
              "      <td>NaN</td>\n",
              "      <td>NaN</td>\n",
              "      <td>NaN</td>\n",
              "      <td>NaN</td>\n",
              "      <td>NaN</td>\n",
              "      <td>NaN</td>\n",
              "      <td>NaN</td>\n",
              "      <td>NaN</td>\n",
              "      <td>NaN</td>\n",
              "      <td>NaN</td>\n",
              "    </tr>\n",
              "    <tr>\n",
              "      <th>Unnamed: 57</th>\n",
              "      <td>NaN</td>\n",
              "      <td>NaN</td>\n",
              "      <td>NaN</td>\n",
              "      <td>NaN</td>\n",
              "      <td>NaN</td>\n",
              "      <td>NaN</td>\n",
              "      <td>NaN</td>\n",
              "      <td>NaN</td>\n",
              "      <td>NaN</td>\n",
              "      <td>NaN</td>\n",
              "      <td>...</td>\n",
              "      <td>NaN</td>\n",
              "      <td>NaN</td>\n",
              "      <td>NaN</td>\n",
              "      <td>NaN</td>\n",
              "      <td>NaN</td>\n",
              "      <td>NaN</td>\n",
              "      <td>NaN</td>\n",
              "      <td>NaN</td>\n",
              "      <td>NaN</td>\n",
              "      <td>NaN</td>\n",
              "    </tr>\n",
              "  </tbody>\n",
              "</table>\n",
              "<p>23 rows × 23 columns</p>\n",
              "</div>"
            ],
            "text/plain": [
              "                                      Age of reference person       Men  \\\n",
              "Age of reference person                              1.000000 -0.664706   \n",
              "Men                                                 -0.664706  1.000000   \n",
              "Women                                                0.664706 -1.000000   \n",
              "Homeowner                                           -0.524180  0.969008   \n",
              "With mortgage                                       -0.655910  0.990940   \n",
              "Without mortgage                                     0.848371 -0.796943   \n",
              "Renter                                               0.524180 -0.969008   \n",
              "Black or African-American                            0.556327 -0.957188   \n",
              "White, Asian, and all other races                   -0.556327  0.957188   \n",
              "Hispanic or Latino                                   0.328589 -0.880608   \n",
              "Not Hispanic or Latino                              -0.328589  0.880608   \n",
              "High school (9-12)                                   0.639802 -0.987988   \n",
              "College                                             -0.645682  0.992358   \n",
              "Gas                                                 -0.417094  0.936235   \n",
              "Fuel oil                                            -0.389730  0.932303   \n",
              "Laundry and cleaning products                       -0.438791  0.948662   \n",
              "Other household products                            -0.409568  0.926027   \n",
              "Vehicle finance charges                             -0.616340  0.994795   \n",
              "Reading                                             -0.377313  0.856486   \n",
              "Unemployment and worker compensation                -0.430045  0.663101   \n",
              "Unnamed: 55                                               NaN       NaN   \n",
              "Unnamed: 56                                               NaN       NaN   \n",
              "Unnamed: 57                                               NaN       NaN   \n",
              "\n",
              "                                         Women  Homeowner  With mortgage  \\\n",
              "Age of reference person               0.664706  -0.524180      -0.655910   \n",
              "Men                                  -1.000000   0.969008       0.990940   \n",
              "Women                                 1.000000  -0.969008      -0.990940   \n",
              "Homeowner                            -0.969008   1.000000       0.975683   \n",
              "With mortgage                        -0.990940   0.975683       1.000000   \n",
              "Without mortgage                      0.796943  -0.662442      -0.810182   \n",
              "Renter                                0.969008  -1.000000      -0.975683   \n",
              "Black or African-American             0.957188  -0.982067      -0.967631   \n",
              "White, Asian, and all other races    -0.957188   0.982067       0.967631   \n",
              "Hispanic or Latino                    0.880608  -0.865587      -0.872527   \n",
              "Not Hispanic or Latino               -0.880608   0.865587       0.872527   \n",
              "High school (9-12)                    0.987988  -0.956354      -0.990835   \n",
              "College                              -0.992358   0.969670       0.995566   \n",
              "Gas                                  -0.936235   0.944973       0.937130   \n",
              "Fuel oil                             -0.932303   0.941791       0.930176   \n",
              "Laundry and cleaning products        -0.948662   0.949177       0.928025   \n",
              "Other household products             -0.926027   0.920493       0.917732   \n",
              "Vehicle finance charges              -0.994795   0.972876       0.991174   \n",
              "Reading                              -0.856486   0.841881       0.860751   \n",
              "Unemployment and worker compensation -0.663101   0.699352       0.697088   \n",
              "Unnamed: 55                                NaN        NaN            NaN   \n",
              "Unnamed: 56                                NaN        NaN            NaN   \n",
              "Unnamed: 57                                NaN        NaN            NaN   \n",
              "\n",
              "                                      Without mortgage    Renter  \\\n",
              "Age of reference person                       0.848371  0.524180   \n",
              "Men                                          -0.796943 -0.969008   \n",
              "Women                                         0.796943  0.969008   \n",
              "Homeowner                                    -0.662442 -1.000000   \n",
              "With mortgage                                -0.810182 -0.975683   \n",
              "Without mortgage                              1.000000  0.662442   \n",
              "Renter                                        0.662442  1.000000   \n",
              "Black or African-American                     0.682080  0.982067   \n",
              "White, Asian, and all other races            -0.682080 -0.982067   \n",
              "Hispanic or Latino                            0.662531  0.865587   \n",
              "Not Hispanic or Latino                       -0.662531 -0.865587   \n",
              "High school (9-12)                            0.828001  0.956354   \n",
              "College                                      -0.810856 -0.969670   \n",
              "Gas                                          -0.672508 -0.944973   \n",
              "Fuel oil                                     -0.654061 -0.941791   \n",
              "Laundry and cleaning products                -0.634951 -0.949177   \n",
              "Other household products                     -0.668134 -0.920493   \n",
              "Vehicle finance charges                      -0.784740 -0.972876   \n",
              "Reading                                      -0.686217 -0.841881   \n",
              "Unemployment and worker compensation         -0.536781 -0.699352   \n",
              "Unnamed: 55                                        NaN       NaN   \n",
              "Unnamed: 56                                        NaN       NaN   \n",
              "Unnamed: 57                                        NaN       NaN   \n",
              "\n",
              "                                      Black or African-American  \\\n",
              "Age of reference person                                0.556327   \n",
              "Men                                                   -0.957188   \n",
              "Women                                                  0.957188   \n",
              "Homeowner                                             -0.982067   \n",
              "With mortgage                                         -0.967631   \n",
              "Without mortgage                                       0.682080   \n",
              "Renter                                                 0.982067   \n",
              "Black or African-American                              1.000000   \n",
              "White, Asian, and all other races                     -1.000000   \n",
              "Hispanic or Latino                                     0.837859   \n",
              "Not Hispanic or Latino                                -0.837859   \n",
              "High school (9-12)                                     0.943458   \n",
              "College                                               -0.953313   \n",
              "Gas                                                   -0.910044   \n",
              "Fuel oil                                              -0.930571   \n",
              "Laundry and cleaning products                         -0.907257   \n",
              "Other household products                              -0.895659   \n",
              "Vehicle finance charges                               -0.963943   \n",
              "Reading                                               -0.803937   \n",
              "Unemployment and worker compensation                  -0.623209   \n",
              "Unnamed: 55                                                 NaN   \n",
              "Unnamed: 56                                                 NaN   \n",
              "Unnamed: 57                                                 NaN   \n",
              "\n",
              "                                      White, Asian, and all other races  \\\n",
              "Age of reference person                                       -0.556327   \n",
              "Men                                                            0.957188   \n",
              "Women                                                         -0.957188   \n",
              "Homeowner                                                      0.982067   \n",
              "With mortgage                                                  0.967631   \n",
              "Without mortgage                                              -0.682080   \n",
              "Renter                                                        -0.982067   \n",
              "Black or African-American                                     -1.000000   \n",
              "White, Asian, and all other races                              1.000000   \n",
              "Hispanic or Latino                                            -0.837859   \n",
              "Not Hispanic or Latino                                         0.837859   \n",
              "High school (9-12)                                            -0.943458   \n",
              "College                                                        0.953313   \n",
              "Gas                                                            0.910044   \n",
              "Fuel oil                                                       0.930571   \n",
              "Laundry and cleaning products                                  0.907257   \n",
              "Other household products                                       0.895659   \n",
              "Vehicle finance charges                                        0.963943   \n",
              "Reading                                                        0.803937   \n",
              "Unemployment and worker compensation                           0.623209   \n",
              "Unnamed: 55                                                         NaN   \n",
              "Unnamed: 56                                                         NaN   \n",
              "Unnamed: 57                                                         NaN   \n",
              "\n",
              "                                      Hispanic or Latino     ...       \\\n",
              "Age of reference person                         0.328589     ...        \n",
              "Men                                            -0.880608     ...        \n",
              "Women                                           0.880608     ...        \n",
              "Homeowner                                      -0.865587     ...        \n",
              "With mortgage                                  -0.872527     ...        \n",
              "Without mortgage                                0.662531     ...        \n",
              "Renter                                          0.865587     ...        \n",
              "Black or African-American                       0.837859     ...        \n",
              "White, Asian, and all other races              -0.837859     ...        \n",
              "Hispanic or Latino                              1.000000     ...        \n",
              "Not Hispanic or Latino                         -1.000000     ...        \n",
              "High school (9-12)                              0.890406     ...        \n",
              "College                                        -0.878433     ...        \n",
              "Gas                                            -0.925777     ...        \n",
              "Fuel oil                                       -0.968847     ...        \n",
              "Laundry and cleaning products                  -0.925865     ...        \n",
              "Other household products                       -0.911667     ...        \n",
              "Vehicle finance charges                        -0.911764     ...        \n",
              "Reading                                        -0.859602     ...        \n",
              "Unemployment and worker compensation           -0.513853     ...        \n",
              "Unnamed: 55                                          NaN     ...        \n",
              "Unnamed: 56                                          NaN     ...        \n",
              "Unnamed: 57                                          NaN     ...        \n",
              "\n",
              "                                           Gas  Fuel oil  \\\n",
              "Age of reference person              -0.417094 -0.389730   \n",
              "Men                                   0.936235  0.932303   \n",
              "Women                                -0.936235 -0.932303   \n",
              "Homeowner                             0.944973  0.941791   \n",
              "With mortgage                         0.937130  0.930176   \n",
              "Without mortgage                     -0.672508 -0.654061   \n",
              "Renter                               -0.944973 -0.941791   \n",
              "Black or African-American            -0.910044 -0.930571   \n",
              "White, Asian, and all other races     0.910044  0.930571   \n",
              "Hispanic or Latino                   -0.925777 -0.968847   \n",
              "Not Hispanic or Latino                0.925777  0.968847   \n",
              "High school (9-12)                   -0.958184 -0.936907   \n",
              "College                               0.954166  0.930502   \n",
              "Gas                                   1.000000  0.966614   \n",
              "Fuel oil                              0.966614  1.000000   \n",
              "Laundry and cleaning products         0.975844  0.957428   \n",
              "Other household products              0.978220  0.949276   \n",
              "Vehicle finance charges               0.944946  0.957178   \n",
              "Reading                               0.959061  0.880463   \n",
              "Unemployment and worker compensation  0.643880  0.522432   \n",
              "Unnamed: 55                                NaN       NaN   \n",
              "Unnamed: 56                                NaN       NaN   \n",
              "Unnamed: 57                                NaN       NaN   \n",
              "\n",
              "                                      Laundry and cleaning products  \\\n",
              "Age of reference person                                   -0.438791   \n",
              "Men                                                        0.948662   \n",
              "Women                                                     -0.948662   \n",
              "Homeowner                                                  0.949177   \n",
              "With mortgage                                              0.928025   \n",
              "Without mortgage                                          -0.634951   \n",
              "Renter                                                    -0.949177   \n",
              "Black or African-American                                 -0.907257   \n",
              "White, Asian, and all other races                          0.907257   \n",
              "Hispanic or Latino                                        -0.925865   \n",
              "Not Hispanic or Latino                                     0.925865   \n",
              "High school (9-12)                                        -0.939587   \n",
              "College                                                    0.944649   \n",
              "Gas                                                        0.975844   \n",
              "Fuel oil                                                   0.957428   \n",
              "Laundry and cleaning products                              1.000000   \n",
              "Other household products                                   0.952306   \n",
              "Vehicle finance charges                                    0.948932   \n",
              "Reading                                                    0.902496   \n",
              "Unemployment and worker compensation                       0.642679   \n",
              "Unnamed: 55                                                     NaN   \n",
              "Unnamed: 56                                                     NaN   \n",
              "Unnamed: 57                                                     NaN   \n",
              "\n",
              "                                      Other household products  \\\n",
              "Age of reference person                              -0.409568   \n",
              "Men                                                   0.926027   \n",
              "Women                                                -0.926027   \n",
              "Homeowner                                             0.920493   \n",
              "With mortgage                                         0.917732   \n",
              "Without mortgage                                     -0.668134   \n",
              "Renter                                               -0.920493   \n",
              "Black or African-American                            -0.895659   \n",
              "White, Asian, and all other races                     0.895659   \n",
              "Hispanic or Latino                                   -0.911667   \n",
              "Not Hispanic or Latino                                0.911667   \n",
              "High school (9-12)                                   -0.949493   \n",
              "College                                               0.940520   \n",
              "Gas                                                   0.978220   \n",
              "Fuel oil                                              0.949276   \n",
              "Laundry and cleaning products                         0.952306   \n",
              "Other household products                              1.000000   \n",
              "Vehicle finance charges                               0.936600   \n",
              "Reading                                               0.963251   \n",
              "Unemployment and worker compensation                  0.615120   \n",
              "Unnamed: 55                                                NaN   \n",
              "Unnamed: 56                                                NaN   \n",
              "Unnamed: 57                                                NaN   \n",
              "\n",
              "                                      Vehicle finance charges   Reading  \\\n",
              "Age of reference person                             -0.616340 -0.377313   \n",
              "Men                                                  0.994795  0.856486   \n",
              "Women                                               -0.994795 -0.856486   \n",
              "Homeowner                                            0.972876  0.841881   \n",
              "With mortgage                                        0.991174  0.860751   \n",
              "Without mortgage                                    -0.784740 -0.686217   \n",
              "Renter                                              -0.972876 -0.841881   \n",
              "Black or African-American                           -0.963943 -0.803937   \n",
              "White, Asian, and all other races                    0.963943  0.803937   \n",
              "Hispanic or Latino                                  -0.911764 -0.859602   \n",
              "Not Hispanic or Latino                               0.911764  0.859602   \n",
              "High school (9-12)                                  -0.987371 -0.911233   \n",
              "College                                              0.989002  0.896510   \n",
              "Gas                                                  0.944946  0.959061   \n",
              "Fuel oil                                             0.957178  0.880463   \n",
              "Laundry and cleaning products                        0.948932  0.902496   \n",
              "Other household products                             0.936600  0.963251   \n",
              "Vehicle finance charges                              1.000000  0.860788   \n",
              "Reading                                              0.860788  1.000000   \n",
              "Unemployment and worker compensation                 0.638179  0.653034   \n",
              "Unnamed: 55                                               NaN       NaN   \n",
              "Unnamed: 56                                               NaN       NaN   \n",
              "Unnamed: 57                                               NaN       NaN   \n",
              "\n",
              "                                      Unemployment and worker compensation  \\\n",
              "Age of reference person                                          -0.430045   \n",
              "Men                                                               0.663101   \n",
              "Women                                                            -0.663101   \n",
              "Homeowner                                                         0.699352   \n",
              "With mortgage                                                     0.697088   \n",
              "Without mortgage                                                 -0.536781   \n",
              "Renter                                                           -0.699352   \n",
              "Black or African-American                                        -0.623209   \n",
              "White, Asian, and all other races                                 0.623209   \n",
              "Hispanic or Latino                                               -0.513853   \n",
              "Not Hispanic or Latino                                            0.513853   \n",
              "High school (9-12)                                               -0.676344   \n",
              "College                                                           0.709590   \n",
              "Gas                                                               0.643880   \n",
              "Fuel oil                                                          0.522432   \n",
              "Laundry and cleaning products                                     0.642679   \n",
              "Other household products                                          0.615120   \n",
              "Vehicle finance charges                                           0.638179   \n",
              "Reading                                                           0.653034   \n",
              "Unemployment and worker compensation                              1.000000   \n",
              "Unnamed: 55                                                            NaN   \n",
              "Unnamed: 56                                                            NaN   \n",
              "Unnamed: 57                                                            NaN   \n",
              "\n",
              "                                      Unnamed: 55  Unnamed: 56  Unnamed: 57  \n",
              "Age of reference person                       NaN          NaN          NaN  \n",
              "Men                                           NaN          NaN          NaN  \n",
              "Women                                         NaN          NaN          NaN  \n",
              "Homeowner                                     NaN          NaN          NaN  \n",
              "With mortgage                                 NaN          NaN          NaN  \n",
              "Without mortgage                              NaN          NaN          NaN  \n",
              "Renter                                        NaN          NaN          NaN  \n",
              "Black or African-American                     NaN          NaN          NaN  \n",
              "White, Asian, and all other races             NaN          NaN          NaN  \n",
              "Hispanic or Latino                            NaN          NaN          NaN  \n",
              "Not Hispanic or Latino                        NaN          NaN          NaN  \n",
              "High school (9-12)                            NaN          NaN          NaN  \n",
              "College                                       NaN          NaN          NaN  \n",
              "Gas                                           NaN          NaN          NaN  \n",
              "Fuel oil                                      NaN          NaN          NaN  \n",
              "Laundry and cleaning products                 NaN          NaN          NaN  \n",
              "Other household products                      NaN          NaN          NaN  \n",
              "Vehicle finance charges                       NaN          NaN          NaN  \n",
              "Reading                                       NaN          NaN          NaN  \n",
              "Unemployment and worker compensation          NaN          NaN          NaN  \n",
              "Unnamed: 55                                   NaN          NaN          NaN  \n",
              "Unnamed: 56                                   NaN          NaN          NaN  \n",
              "Unnamed: 57                                   NaN          NaN          NaN  \n",
              "\n",
              "[23 rows x 23 columns]"
            ]
          },
          "metadata": {
            "tags": []
          },
          "execution_count": 18
        }
      ]
    },
    {
      "metadata": {
        "id": "pVEE2KKvzkIj",
        "colab_type": "code",
        "colab": {}
      },
      "cell_type": "code",
      "source": [
        "expenses = expenses.set_index('Item')"
      ],
      "execution_count": 0,
      "outputs": []
    },
    {
      "metadata": {
        "id": "NrpnfELHz37-",
        "colab_type": "code",
        "outputId": "c2627236-7f43-4a0b-e73d-778163f0ff7a",
        "colab": {
          "base_uri": "https://localhost:8080/",
          "height": 475
        }
      },
      "cell_type": "code",
      "source": [
        "expenses.head()"
      ],
      "execution_count": 8,
      "outputs": [
        {
          "output_type": "execute_result",
          "data": {
            "text/html": [
              "<div>\n",
              "<style scoped>\n",
              "    .dataframe tbody tr th:only-of-type {\n",
              "        vertical-align: middle;\n",
              "    }\n",
              "\n",
              "    .dataframe tbody tr th {\n",
              "        vertical-align: top;\n",
              "    }\n",
              "\n",
              "    .dataframe thead th {\n",
              "        text-align: right;\n",
              "    }\n",
              "</style>\n",
              "<table border=\"1\" class=\"dataframe\">\n",
              "  <thead>\n",
              "    <tr style=\"text-align: right;\">\n",
              "      <th></th>\n",
              "      <th>Number of consumer units (in thousands)</th>\n",
              "      <th>Income before taxes</th>\n",
              "      <th>Income after taxes</th>\n",
              "      <th>Age of reference person</th>\n",
              "      <th>Men</th>\n",
              "      <th>Women</th>\n",
              "      <th>Homeowner</th>\n",
              "      <th>With mortgage</th>\n",
              "      <th>Without mortgage</th>\n",
              "      <th>Renter</th>\n",
              "      <th>...</th>\n",
              "      <th>Income before taxes.1</th>\n",
              "      <th>Wages and Salary</th>\n",
              "      <th>Self-employment income</th>\n",
              "      <th>Social security</th>\n",
              "      <th>Interest Income</th>\n",
              "      <th>Public Assistance</th>\n",
              "      <th>Unemployment and worker compensation</th>\n",
              "      <th>Unnamed: 55</th>\n",
              "      <th>Unnamed: 56</th>\n",
              "      <th>Unnamed: 57</th>\n",
              "    </tr>\n",
              "    <tr>\n",
              "      <th>Item</th>\n",
              "      <th></th>\n",
              "      <th></th>\n",
              "      <th></th>\n",
              "      <th></th>\n",
              "      <th></th>\n",
              "      <th></th>\n",
              "      <th></th>\n",
              "      <th></th>\n",
              "      <th></th>\n",
              "      <th></th>\n",
              "      <th></th>\n",
              "      <th></th>\n",
              "      <th></th>\n",
              "      <th></th>\n",
              "      <th></th>\n",
              "      <th></th>\n",
              "      <th></th>\n",
              "      <th></th>\n",
              "      <th></th>\n",
              "      <th></th>\n",
              "      <th></th>\n",
              "    </tr>\n",
              "  </thead>\n",
              "  <tbody>\n",
              "    <tr>\n",
              "      <th>All consumer units</th>\n",
              "      <td>130,001</td>\n",
              "      <td>$73,573</td>\n",
              "      <td>63,606</td>\n",
              "      <td>50.9</td>\n",
              "      <td>47</td>\n",
              "      <td>53</td>\n",
              "      <td>63</td>\n",
              "      <td>36</td>\n",
              "      <td>27</td>\n",
              "      <td>37</td>\n",
              "      <td>...</td>\n",
              "      <td>$73,573</td>\n",
              "      <td>57,590</td>\n",
              "      <td>4,506</td>\n",
              "      <td>8,300</td>\n",
              "      <td>1,910</td>\n",
              "      <td>460</td>\n",
              "      <td>457</td>\n",
              "      <td>NaN</td>\n",
              "      <td>NaN</td>\n",
              "      <td>NaN</td>\n",
              "    </tr>\n",
              "    <tr>\n",
              "      <th>Less than $15,000</th>\n",
              "      <td>16,887</td>\n",
              "      <td>$7,860</td>\n",
              "      <td>8,229</td>\n",
              "      <td>51.2</td>\n",
              "      <td>39</td>\n",
              "      <td>61</td>\n",
              "      <td>36</td>\n",
              "      <td>11</td>\n",
              "      <td>25</td>\n",
              "      <td>64</td>\n",
              "      <td>...</td>\n",
              "      <td>$7,860</td>\n",
              "      <td>2,156</td>\n",
              "      <td>56</td>\n",
              "      <td>3,747</td>\n",
              "      <td>77</td>\n",
              "      <td>1,120</td>\n",
              "      <td>182</td>\n",
              "      <td>NaN</td>\n",
              "      <td>NaN</td>\n",
              "      <td>NaN</td>\n",
              "    </tr>\n",
              "    <tr>\n",
              "      <th>$15,000 to $29,999</th>\n",
              "      <td>22,385</td>\n",
              "      <td>$22,315</td>\n",
              "      <td>23,194</td>\n",
              "      <td>57.2</td>\n",
              "      <td>39</td>\n",
              "      <td>61</td>\n",
              "      <td>52</td>\n",
              "      <td>15</td>\n",
              "      <td>37</td>\n",
              "      <td>48</td>\n",
              "      <td>...</td>\n",
              "      <td>$22,315</td>\n",
              "      <td>9,381</td>\n",
              "      <td>520</td>\n",
              "      <td>10,601</td>\n",
              "      <td>246</td>\n",
              "      <td>812</td>\n",
              "      <td>346</td>\n",
              "      <td>NaN</td>\n",
              "      <td>NaN</td>\n",
              "      <td>NaN</td>\n",
              "    </tr>\n",
              "    <tr>\n",
              "      <th>$30,000 to $39,999</th>\n",
              "      <td>13,039</td>\n",
              "      <td>$34,685</td>\n",
              "      <td>34,755</td>\n",
              "      <td>52.8</td>\n",
              "      <td>44</td>\n",
              "      <td>56</td>\n",
              "      <td>56</td>\n",
              "      <td>21</td>\n",
              "      <td>35</td>\n",
              "      <td>44</td>\n",
              "      <td>...</td>\n",
              "      <td>$34,685</td>\n",
              "      <td>20,724</td>\n",
              "      <td>1,032</td>\n",
              "      <td>11,318</td>\n",
              "      <td>499</td>\n",
              "      <td>503</td>\n",
              "      <td>427</td>\n",
              "      <td>NaN</td>\n",
              "      <td>NaN</td>\n",
              "      <td>NaN</td>\n",
              "    </tr>\n",
              "    <tr>\n",
              "      <th>$40,000 to $49,999</th>\n",
              "      <td>10,655</td>\n",
              "      <td>$44,771</td>\n",
              "      <td>43,173</td>\n",
              "      <td>50.9</td>\n",
              "      <td>45</td>\n",
              "      <td>55</td>\n",
              "      <td>61</td>\n",
              "      <td>32</td>\n",
              "      <td>29</td>\n",
              "      <td>39</td>\n",
              "      <td>...</td>\n",
              "      <td>$44,771</td>\n",
              "      <td>30,217</td>\n",
              "      <td>1,437</td>\n",
              "      <td>11,033</td>\n",
              "      <td>951</td>\n",
              "      <td>467</td>\n",
              "      <td>348</td>\n",
              "      <td>NaN</td>\n",
              "      <td>NaN</td>\n",
              "      <td>NaN</td>\n",
              "    </tr>\n",
              "  </tbody>\n",
              "</table>\n",
              "<p>5 rows × 57 columns</p>\n",
              "</div>"
            ],
            "text/plain": [
              "                   Number of consumer units (in thousands)  \\\n",
              "Item                                                         \n",
              "All consumer units                                 130,001   \n",
              "Less than $15,000                                   16,887   \n",
              "$15,000 to $29,999                                  22,385   \n",
              "$30,000 to $39,999                                  13,039   \n",
              "$40,000 to $49,999                                  10,655   \n",
              "\n",
              "                   Income before taxes Income after taxes  \\\n",
              "Item                                                        \n",
              "All consumer units            $73,573              63,606   \n",
              "Less than $15,000              $7,860               8,229   \n",
              "$15,000 to $29,999            $22,315              23,194   \n",
              "$30,000 to $39,999            $34,685              34,755   \n",
              "$40,000 to $49,999            $44,771              43,173   \n",
              "\n",
              "                    Age of reference person  Men  Women  Homeowner  \\\n",
              "Item                                                                 \n",
              "All consumer units                     50.9   47     53         63   \n",
              "Less than $15,000                      51.2   39     61         36   \n",
              "$15,000 to $29,999                     57.2   39     61         52   \n",
              "$30,000 to $39,999                     52.8   44     56         56   \n",
              "$40,000 to $49,999                     50.9   45     55         61   \n",
              "\n",
              "                    With mortgage  Without mortgage  Renter     ...      \\\n",
              "Item                                                            ...       \n",
              "All consumer units             36                27      37     ...       \n",
              "Less than $15,000              11                25      64     ...       \n",
              "$15,000 to $29,999             15                37      48     ...       \n",
              "$30,000 to $39,999             21                35      44     ...       \n",
              "$40,000 to $49,999             32                29      39     ...       \n",
              "\n",
              "                    Income before taxes.1  Wages and Salary  \\\n",
              "Item                                                          \n",
              "All consumer units               $73,573             57,590   \n",
              "Less than $15,000                 $7,860              2,156   \n",
              "$15,000 to $29,999               $22,315              9,381   \n",
              "$30,000 to $39,999               $34,685             20,724   \n",
              "$40,000 to $49,999               $44,771             30,217   \n",
              "\n",
              "                    Self-employment income  Social security Interest Income  \\\n",
              "Item                                                                          \n",
              "All consumer units                   4,506            8,300           1,910   \n",
              "Less than $15,000                       56            3,747              77   \n",
              "$15,000 to $29,999                     520           10,601             246   \n",
              "$30,000 to $39,999                   1,032           11,318             499   \n",
              "$40,000 to $49,999                   1,437           11,033             951   \n",
              "\n",
              "                    Public Assistance  Unemployment and worker compensation  \\\n",
              "Item                                                                          \n",
              "All consumer units                460                                   457   \n",
              "Less than $15,000               1,120                                   182   \n",
              "$15,000 to $29,999                812                                   346   \n",
              "$30,000 to $39,999                503                                   427   \n",
              "$40,000 to $49,999                467                                   348   \n",
              "\n",
              "                   Unnamed: 55 Unnamed: 56 Unnamed: 57  \n",
              "Item                                                    \n",
              "All consumer units         NaN         NaN         NaN  \n",
              "Less than $15,000          NaN         NaN         NaN  \n",
              "$15,000 to $29,999         NaN         NaN         NaN  \n",
              "$30,000 to $39,999         NaN         NaN         NaN  \n",
              "$40,000 to $49,999         NaN         NaN         NaN  \n",
              "\n",
              "[5 rows x 57 columns]"
            ]
          },
          "metadata": {
            "tags": []
          },
          "execution_count": 8
        }
      ]
    },
    {
      "metadata": {
        "id": "uc_P28_wevFy",
        "colab_type": "code",
        "colab": {}
      },
      "cell_type": "code",
      "source": [
        "import scipy\n",
        "from scipy.stats import ttest_ind"
      ],
      "execution_count": 0,
      "outputs": []
    },
    {
      "metadata": {
        "id": "MK7FYUKIhWfe",
        "colab_type": "code",
        "colab": {}
      },
      "cell_type": "code",
      "source": [
        "expenses.columns.tolist()"
      ],
      "execution_count": 0,
      "outputs": []
    },
    {
      "metadata": {
        "id": "Ip74DDcc0vFn",
        "colab_type": "code",
        "colab": {}
      },
      "cell_type": "code",
      "source": [
        "subset"
      ],
      "execution_count": 0,
      "outputs": []
    },
    {
      "metadata": {
        "id": "K2LTSmfR149F",
        "colab_type": "code",
        "colab": {}
      },
      "cell_type": "code",
      "source": [
        "subset['Food'] = subset['Food'].str.replace(',', '')"
      ],
      "execution_count": 0,
      "outputs": []
    },
    {
      "metadata": {
        "id": "BteI4Z2P1Mg9",
        "colab_type": "code",
        "colab": {}
      },
      "cell_type": "code",
      "source": [
        "expenses['Food'].float_format = '{:,}'.format"
      ],
      "execution_count": 0,
      "outputs": []
    },
    {
      "metadata": {
        "id": "sLJd1mb21QG3",
        "colab_type": "code",
        "colab": {}
      },
      "cell_type": "code",
      "source": [
        "expenses['Housing'].float_format = '{:,}'.format"
      ],
      "execution_count": 0,
      "outputs": []
    },
    {
      "metadata": {
        "id": "zSFNbdUK1TK1",
        "colab_type": "code",
        "colab": {}
      },
      "cell_type": "code",
      "source": [
        "expenses['Shelter'].float_format = '{:,}'.format"
      ],
      "execution_count": 0,
      "outputs": []
    },
    {
      "metadata": {
        "id": "q6natZoQ1Wmf",
        "colab_type": "code",
        "colab": {}
      },
      "cell_type": "code",
      "source": [
        "expenses['Utilities'].float_format = '{:,}'.format"
      ],
      "execution_count": 0,
      "outputs": []
    },
    {
      "metadata": {
        "id": "Whi3Si0t1ZK8",
        "colab_type": "code",
        "colab": {}
      },
      "cell_type": "code",
      "source": [
        "expenses['Electricity'].float_format = '{:,}'.format"
      ],
      "execution_count": 0,
      "outputs": []
    },
    {
      "metadata": {
        "id": "0f7WfeJW1c3p",
        "colab_type": "code",
        "colab": {}
      },
      "cell_type": "code",
      "source": [
        "expenses['Total phone expenses'].float_format = '{:,}'.format"
      ],
      "execution_count": 0,
      "outputs": []
    },
    {
      "metadata": {
        "id": "Epk2ghvo1jsN",
        "colab_type": "code",
        "colab": {}
      },
      "cell_type": "code",
      "source": [
        "expenses['Transportation'].float_format = '{:,}'.format"
      ],
      "execution_count": 0,
      "outputs": []
    },
    {
      "metadata": {
        "id": "4zdPC84s1mNZ",
        "colab_type": "code",
        "colab": {}
      },
      "cell_type": "code",
      "source": [
        "expenses['Education'].float_format = '{:,}'.format"
      ],
      "execution_count": 0,
      "outputs": []
    },
    {
      "metadata": {
        "id": "x6WAL2e21EPD",
        "colab_type": "code",
        "colab": {}
      },
      "cell_type": "code",
      "source": [
        "subset.plot.bar()"
      ],
      "execution_count": 0,
      "outputs": []
    },
    {
      "metadata": {
        "id": "EtYhua3bdL4T",
        "colab_type": "code",
        "colab": {}
      },
      "cell_type": "code",
      "source": [
        "expenses['Income after taxes'].float_format = '{:,}'.format"
      ],
      "execution_count": 0,
      "outputs": []
    },
    {
      "metadata": {
        "id": "ozvy9S9zeLv1",
        "colab_type": "code",
        "colab": {}
      },
      "cell_type": "code",
      "source": [
        "expenses['Income after taxes'] = expenses['Income after taxes'].str.replace(',', '')\n",
        "expenses['Income after taxes'] = expenses['Income after taxes'].str.replace('$', '')\n",
        "expenses['Income after taxes'] = expenses['Income after taxes'].astype(int)\n"
      ],
      "execution_count": 0,
      "outputs": []
    },
    {
      "metadata": {
        "id": "Azox-bMz29ad",
        "colab_type": "code",
        "colab": {}
      },
      "cell_type": "code",
      "source": [
        "import statistics"
      ],
      "execution_count": 0,
      "outputs": []
    },
    {
      "metadata": {
        "id": "0YQFKarE21Qz",
        "colab_type": "code",
        "colab": {}
      },
      "cell_type": "code",
      "source": [
        "expenses.describe"
      ],
      "execution_count": 0,
      "outputs": []
    },
    {
      "metadata": {
        "id": "RxQPasmGeyqK",
        "colab_type": "code",
        "colab": {}
      },
      "cell_type": "code",
      "source": [
        "expenses['Income after taxes']"
      ],
      "execution_count": 0,
      "outputs": []
    },
    {
      "metadata": {
        "id": "jPZJUs9Ke_n7",
        "colab_type": "code",
        "colab": {}
      },
      "cell_type": "code",
      "source": [
        "expenses.corr()"
      ],
      "execution_count": 0,
      "outputs": []
    },
    {
      "metadata": {
        "id": "vAwnNz9Nf6xs",
        "colab_type": "code",
        "colab": {}
      },
      "cell_type": "code",
      "source": [
        "url2 = 'https://raw.githubusercontent.com/Hira63S/Project-1/master/Vehicle%20charges%20by%20income%20group.csv'"
      ],
      "execution_count": 0,
      "outputs": []
    },
    {
      "metadata": {
        "id": "UWVkWIbHvBhZ",
        "colab_type": "code",
        "colab": {}
      },
      "cell_type": "code",
      "source": [
        "vehicle = pd.read_csv(url2)"
      ],
      "execution_count": 0,
      "outputs": []
    },
    {
      "metadata": {
        "id": "O6ZJMT8WvEqH",
        "colab_type": "code",
        "colab": {
          "base_uri": "https://localhost:8080/",
          "height": 229
        },
        "outputId": "d6511fc2-4bd8-4ba8-ce29-3bc442804a76"
      },
      "cell_type": "code",
      "source": [
        "vehicle.head()"
      ],
      "execution_count": 39,
      "outputs": [
        {
          "output_type": "execute_result",
          "data": {
            "text/html": [
              "<div>\n",
              "<style scoped>\n",
              "    .dataframe tbody tr th:only-of-type {\n",
              "        vertical-align: middle;\n",
              "    }\n",
              "\n",
              "    .dataframe tbody tr th {\n",
              "        vertical-align: top;\n",
              "    }\n",
              "\n",
              "    .dataframe thead th {\n",
              "        text-align: right;\n",
              "    }\n",
              "</style>\n",
              "<table border=\"1\" class=\"dataframe\">\n",
              "  <thead>\n",
              "    <tr style=\"text-align: right;\">\n",
              "      <th></th>\n",
              "      <th>Item</th>\n",
              "      <th>Vehicle</th>\n",
              "      <th>Vehicle Purchases</th>\n",
              "      <th>Cars &amp; Trucks, New</th>\n",
              "      <th>Cars &amp; Trucks, Used</th>\n",
              "      <th>Gasoline</th>\n",
              "      <th>Other expenses</th>\n",
              "      <th>Vehicle Finance Charges</th>\n",
              "      <th>Maintenance &amp; Repair</th>\n",
              "      <th>Vehicle Insurance</th>\n",
              "      <th>Rental, Lease</th>\n",
              "      <th>Public Transportation</th>\n",
              "    </tr>\n",
              "  </thead>\n",
              "  <tbody>\n",
              "    <tr>\n",
              "      <th>0</th>\n",
              "      <td>All consumer units</td>\n",
              "      <td>9,576</td>\n",
              "      <td>4,054</td>\n",
              "      <td>1,900</td>\n",
              "      <td>2,101</td>\n",
              "      <td>1,968</td>\n",
              "      <td>2,842</td>\n",
              "      <td>220</td>\n",
              "      <td>954</td>\n",
              "      <td>967</td>\n",
              "      <td>700</td>\n",
              "      <td>712</td>\n",
              "    </tr>\n",
              "    <tr>\n",
              "      <th>1</th>\n",
              "      <td>&gt; $15K</td>\n",
              "      <td>3,401</td>\n",
              "      <td>1,176</td>\n",
              "      <td>524</td>\n",
              "      <td>638</td>\n",
              "      <td>864</td>\n",
              "      <td>1,110</td>\n",
              "      <td>67</td>\n",
              "      <td>331</td>\n",
              "      <td>493</td>\n",
              "      <td>218</td>\n",
              "      <td>252</td>\n",
              "    </tr>\n",
              "    <tr>\n",
              "      <th>2</th>\n",
              "      <td>$15K -  $30K</td>\n",
              "      <td>4,930</td>\n",
              "      <td>1,966</td>\n",
              "      <td>804</td>\n",
              "      <td>1,148</td>\n",
              "      <td>1,218</td>\n",
              "      <td>1,462</td>\n",
              "      <td>87</td>\n",
              "      <td>485</td>\n",
              "      <td>556</td>\n",
              "      <td>334</td>\n",
              "      <td>284</td>\n",
              "    </tr>\n",
              "    <tr>\n",
              "      <th>3</th>\n",
              "      <td>$30K - $40K</td>\n",
              "      <td>7,191</td>\n",
              "      <td>3,097</td>\n",
              "      <td>1,513</td>\n",
              "      <td>1,521</td>\n",
              "      <td>1,652</td>\n",
              "      <td>2,075</td>\n",
              "      <td>141</td>\n",
              "      <td>620</td>\n",
              "      <td>807</td>\n",
              "      <td>507</td>\n",
              "      <td>367</td>\n",
              "    </tr>\n",
              "    <tr>\n",
              "      <th>4</th>\n",
              "      <td>$40K -  $50K</td>\n",
              "      <td>7,529</td>\n",
              "      <td>2,580</td>\n",
              "      <td>878</td>\n",
              "      <td>1,694</td>\n",
              "      <td>1,818</td>\n",
              "      <td>2,703</td>\n",
              "      <td>170</td>\n",
              "      <td>743</td>\n",
              "      <td>1,265</td>\n",
              "      <td>524</td>\n",
              "      <td>428</td>\n",
              "    </tr>\n",
              "  </tbody>\n",
              "</table>\n",
              "</div>"
            ],
            "text/plain": [
              "                 Item Vehicle Vehicle Purchases Cars & Trucks, New  \\\n",
              "0  All consumer units   9,576             4,054              1,900   \n",
              "1              > $15K   3,401             1,176                524   \n",
              "2        $15K -  $30K   4,930             1,966                804   \n",
              "3         $30K - $40K   7,191             3,097              1,513   \n",
              "4        $40K -  $50K   7,529             2,580                878   \n",
              "\n",
              "  Cars & Trucks, Used Gasoline Other expenses  Vehicle Finance Charges  \\\n",
              "0               2,101    1,968          2,842                      220   \n",
              "1                 638      864          1,110                       67   \n",
              "2               1,148    1,218          1,462                       87   \n",
              "3               1,521    1,652          2,075                      141   \n",
              "4               1,694    1,818          2,703                      170   \n",
              "\n",
              "  Maintenance & Repair Vehicle Insurance Rental, Lease Public Transportation  \n",
              "0                  954               967           700                   712  \n",
              "1                  331               493           218                   252  \n",
              "2                  485               556           334                   284  \n",
              "3                  620               807           507                   367  \n",
              "4                  743             1,265           524                   428  "
            ]
          },
          "metadata": {
            "tags": []
          },
          "execution_count": 39
        }
      ]
    },
    {
      "metadata": {
        "id": "tk5s8Fz5vQNj",
        "colab_type": "code",
        "colab": {}
      },
      "cell_type": "code",
      "source": [
        "import matplotlib.pyplot as plt"
      ],
      "execution_count": 0,
      "outputs": []
    },
    {
      "metadata": {
        "id": "-BqCwFRVvlfK",
        "colab_type": "code",
        "colab": {}
      },
      "cell_type": "code",
      "source": [
        "columns = vehicle[['Vehicle','Vehicle Purchases', 'Cars & Trucks, New', 'Cars & Trucks, Used', 'Gasoline', 'Other expenses', 'Vehicle Finance Charges', 'Maintenance & Repair',\n",
        "                 'Vehicle Insurance', 'Rental, Lease', 'Public Transportation']]"
      ],
      "execution_count": 0,
      "outputs": []
    },
    {
      "metadata": {
        "id": "MwAqt-ThwC_Q",
        "colab_type": "code",
        "colab": {
          "base_uri": "https://localhost:8080/",
          "height": 235
        },
        "outputId": "0062e277-1bc0-45da-9a8e-4cf173a7a0d6"
      },
      "cell_type": "code",
      "source": [
        "vehicle.dtypes"
      ],
      "execution_count": 42,
      "outputs": [
        {
          "output_type": "execute_result",
          "data": {
            "text/plain": [
              "Item                       object\n",
              "Vehicle                    object\n",
              "Vehicle Purchases          object\n",
              "Cars & Trucks, New         object\n",
              "Cars & Trucks, Used        object\n",
              "Gasoline                   object\n",
              "Other expenses             object\n",
              "Vehicle Finance Charges     int64\n",
              "Maintenance & Repair       object\n",
              "Vehicle Insurance          object\n",
              "Rental, Lease              object\n",
              "Public Transportation      object\n",
              "dtype: object"
            ]
          },
          "metadata": {
            "tags": []
          },
          "execution_count": 42
        }
      ]
    },
    {
      "metadata": {
        "id": "rShA8D0TvJ6R",
        "colab_type": "code",
        "colab": {}
      },
      "cell_type": "code",
      "source": [
        "vehicle['Vehicle'] = vehicle['Vehicle'].str.replace(',', '')"
      ],
      "execution_count": 0,
      "outputs": []
    },
    {
      "metadata": {
        "id": "592nb4NowQsD",
        "colab_type": "code",
        "colab": {}
      },
      "cell_type": "code",
      "source": [
        "vehicle['Vehicle Purchases'] = vehicle['Vehicle Purchases'].str.replace(',', '')"
      ],
      "execution_count": 0,
      "outputs": []
    },
    {
      "metadata": {
        "id": "tDKY-empwVXz",
        "colab_type": "code",
        "colab": {}
      },
      "cell_type": "code",
      "source": [
        "vehicle['Cars & Trucks, New'] = vehicle['Cars & Trucks, New'].str.replace(',', '')\n",
        "vehicle['Cars & Trucks, Used'] = vehicle['Cars & Trucks, Used'].str.replace(',', '')\n",
        "vehicle['Gasoline'] = vehicle['Gasoline'].str.replace(',', '')\n",
        "vehicle['Other expenses'] = vehicle['Other expenses'].str.replace(',', '')\n",
        "#vehicle['Vehicle Finance Charges'] = vehicle['Vehicle Finance Charges'].str.replace(',', '')\n",
        "vehicle['Maintenance & Repair'] = vehicle['Maintenance & Repair'].str.replace(',', '')\n",
        "vehicle['Vehicle Insurance'] = vehicle['Vehicle Insurance'].str.replace(',', '')\n",
        "vehicle['Rental, Lease'] = vehicle['Rental, Lease'].str.replace(',', '')\n",
        "vehicle['Public Transportation'] = vehicle['Public Transportation'].str.replace(',', '')"
      ],
      "execution_count": 0,
      "outputs": []
    },
    {
      "metadata": {
        "id": "5b_X7J9HwVUP",
        "colab_type": "code",
        "colab": {
          "base_uri": "https://localhost:8080/",
          "height": 229
        },
        "outputId": "6683bef6-9332-442f-be9f-2f30fe68894b"
      },
      "cell_type": "code",
      "source": [
        "vehicle.head()"
      ],
      "execution_count": 48,
      "outputs": [
        {
          "output_type": "execute_result",
          "data": {
            "text/html": [
              "<div>\n",
              "<style scoped>\n",
              "    .dataframe tbody tr th:only-of-type {\n",
              "        vertical-align: middle;\n",
              "    }\n",
              "\n",
              "    .dataframe tbody tr th {\n",
              "        vertical-align: top;\n",
              "    }\n",
              "\n",
              "    .dataframe thead th {\n",
              "        text-align: right;\n",
              "    }\n",
              "</style>\n",
              "<table border=\"1\" class=\"dataframe\">\n",
              "  <thead>\n",
              "    <tr style=\"text-align: right;\">\n",
              "      <th></th>\n",
              "      <th>Item</th>\n",
              "      <th>Vehicle</th>\n",
              "      <th>Vehicle Purchases</th>\n",
              "      <th>Cars &amp; Trucks, New</th>\n",
              "      <th>Cars &amp; Trucks, Used</th>\n",
              "      <th>Gasoline</th>\n",
              "      <th>Other expenses</th>\n",
              "      <th>Vehicle Finance Charges</th>\n",
              "      <th>Maintenance &amp; Repair</th>\n",
              "      <th>Vehicle Insurance</th>\n",
              "      <th>Rental, Lease</th>\n",
              "      <th>Public Transportation</th>\n",
              "    </tr>\n",
              "  </thead>\n",
              "  <tbody>\n",
              "    <tr>\n",
              "      <th>0</th>\n",
              "      <td>All consumer units</td>\n",
              "      <td>9576</td>\n",
              "      <td>4054</td>\n",
              "      <td>1900</td>\n",
              "      <td>2101</td>\n",
              "      <td>1968</td>\n",
              "      <td>2842</td>\n",
              "      <td>220</td>\n",
              "      <td>954</td>\n",
              "      <td>967</td>\n",
              "      <td>700</td>\n",
              "      <td>712</td>\n",
              "    </tr>\n",
              "    <tr>\n",
              "      <th>1</th>\n",
              "      <td>&gt; $15K</td>\n",
              "      <td>3401</td>\n",
              "      <td>1176</td>\n",
              "      <td>524</td>\n",
              "      <td>638</td>\n",
              "      <td>864</td>\n",
              "      <td>1110</td>\n",
              "      <td>67</td>\n",
              "      <td>331</td>\n",
              "      <td>493</td>\n",
              "      <td>218</td>\n",
              "      <td>252</td>\n",
              "    </tr>\n",
              "    <tr>\n",
              "      <th>2</th>\n",
              "      <td>$15K -  $30K</td>\n",
              "      <td>4930</td>\n",
              "      <td>1966</td>\n",
              "      <td>804</td>\n",
              "      <td>1148</td>\n",
              "      <td>1218</td>\n",
              "      <td>1462</td>\n",
              "      <td>87</td>\n",
              "      <td>485</td>\n",
              "      <td>556</td>\n",
              "      <td>334</td>\n",
              "      <td>284</td>\n",
              "    </tr>\n",
              "    <tr>\n",
              "      <th>3</th>\n",
              "      <td>$30K - $40K</td>\n",
              "      <td>7191</td>\n",
              "      <td>3097</td>\n",
              "      <td>1513</td>\n",
              "      <td>1521</td>\n",
              "      <td>1652</td>\n",
              "      <td>2075</td>\n",
              "      <td>141</td>\n",
              "      <td>620</td>\n",
              "      <td>807</td>\n",
              "      <td>507</td>\n",
              "      <td>367</td>\n",
              "    </tr>\n",
              "    <tr>\n",
              "      <th>4</th>\n",
              "      <td>$40K -  $50K</td>\n",
              "      <td>7529</td>\n",
              "      <td>2580</td>\n",
              "      <td>878</td>\n",
              "      <td>1694</td>\n",
              "      <td>1818</td>\n",
              "      <td>2703</td>\n",
              "      <td>170</td>\n",
              "      <td>743</td>\n",
              "      <td>1265</td>\n",
              "      <td>524</td>\n",
              "      <td>428</td>\n",
              "    </tr>\n",
              "  </tbody>\n",
              "</table>\n",
              "</div>"
            ],
            "text/plain": [
              "                 Item Vehicle Vehicle Purchases Cars & Trucks, New  \\\n",
              "0  All consumer units    9576              4054               1900   \n",
              "1              > $15K    3401              1176                524   \n",
              "2        $15K -  $30K    4930              1966                804   \n",
              "3         $30K - $40K    7191              3097               1513   \n",
              "4        $40K -  $50K    7529              2580                878   \n",
              "\n",
              "  Cars & Trucks, Used Gasoline Other expenses  Vehicle Finance Charges  \\\n",
              "0                2101     1968           2842                      220   \n",
              "1                 638      864           1110                       67   \n",
              "2                1148     1218           1462                       87   \n",
              "3                1521     1652           2075                      141   \n",
              "4                1694     1818           2703                      170   \n",
              "\n",
              "  Maintenance & Repair Vehicle Insurance Rental, Lease Public Transportation  \n",
              "0                  954               967           700                   712  \n",
              "1                  331               493           218                   252  \n",
              "2                  485               556           334                   284  \n",
              "3                  620               807           507                   367  \n",
              "4                  743              1265           524                   428  "
            ]
          },
          "metadata": {
            "tags": []
          },
          "execution_count": 48
        }
      ]
    },
    {
      "metadata": {
        "id": "kkpGMdtuwVR_",
        "colab_type": "code",
        "colab": {}
      },
      "cell_type": "code",
      "source": [
        "vehicle.dtypes\n"
      ],
      "execution_count": 0,
      "outputs": []
    },
    {
      "metadata": {
        "id": "n-9uSRdZxoq8",
        "colab_type": "code",
        "colab": {}
      },
      "cell_type": "code",
      "source": [
        "vehicle.set_index('Item', inplace = True)"
      ],
      "execution_count": 0,
      "outputs": []
    },
    {
      "metadata": {
        "id": "tc-oq5vJFryy",
        "colab_type": "code",
        "colab": {
          "base_uri": "https://localhost:8080/",
          "height": 394
        },
        "outputId": "018e9145-445e-4bf7-bafc-13fce039c8f0"
      },
      "cell_type": "code",
      "source": [
        "vehicle"
      ],
      "execution_count": 49,
      "outputs": [
        {
          "output_type": "execute_result",
          "data": {
            "text/html": [
              "<div>\n",
              "<style scoped>\n",
              "    .dataframe tbody tr th:only-of-type {\n",
              "        vertical-align: middle;\n",
              "    }\n",
              "\n",
              "    .dataframe tbody tr th {\n",
              "        vertical-align: top;\n",
              "    }\n",
              "\n",
              "    .dataframe thead th {\n",
              "        text-align: right;\n",
              "    }\n",
              "</style>\n",
              "<table border=\"1\" class=\"dataframe\">\n",
              "  <thead>\n",
              "    <tr style=\"text-align: right;\">\n",
              "      <th></th>\n",
              "      <th>Item</th>\n",
              "      <th>Vehicle</th>\n",
              "      <th>Vehicle Purchases</th>\n",
              "      <th>Cars &amp; Trucks, New</th>\n",
              "      <th>Cars &amp; Trucks, Used</th>\n",
              "      <th>Gasoline</th>\n",
              "      <th>Other expenses</th>\n",
              "      <th>Vehicle Finance Charges</th>\n",
              "      <th>Maintenance &amp; Repair</th>\n",
              "      <th>Vehicle Insurance</th>\n",
              "      <th>Rental, Lease</th>\n",
              "      <th>Public Transportation</th>\n",
              "    </tr>\n",
              "  </thead>\n",
              "  <tbody>\n",
              "    <tr>\n",
              "      <th>0</th>\n",
              "      <td>All consumer units</td>\n",
              "      <td>9576</td>\n",
              "      <td>4054</td>\n",
              "      <td>1900</td>\n",
              "      <td>2101</td>\n",
              "      <td>1968</td>\n",
              "      <td>2842</td>\n",
              "      <td>220</td>\n",
              "      <td>954</td>\n",
              "      <td>967</td>\n",
              "      <td>700</td>\n",
              "      <td>712</td>\n",
              "    </tr>\n",
              "    <tr>\n",
              "      <th>1</th>\n",
              "      <td>&gt; $15K</td>\n",
              "      <td>3401</td>\n",
              "      <td>1176</td>\n",
              "      <td>524</td>\n",
              "      <td>638</td>\n",
              "      <td>864</td>\n",
              "      <td>1110</td>\n",
              "      <td>67</td>\n",
              "      <td>331</td>\n",
              "      <td>493</td>\n",
              "      <td>218</td>\n",
              "      <td>252</td>\n",
              "    </tr>\n",
              "    <tr>\n",
              "      <th>2</th>\n",
              "      <td>$15K -  $30K</td>\n",
              "      <td>4930</td>\n",
              "      <td>1966</td>\n",
              "      <td>804</td>\n",
              "      <td>1148</td>\n",
              "      <td>1218</td>\n",
              "      <td>1462</td>\n",
              "      <td>87</td>\n",
              "      <td>485</td>\n",
              "      <td>556</td>\n",
              "      <td>334</td>\n",
              "      <td>284</td>\n",
              "    </tr>\n",
              "    <tr>\n",
              "      <th>3</th>\n",
              "      <td>$30K - $40K</td>\n",
              "      <td>7191</td>\n",
              "      <td>3097</td>\n",
              "      <td>1513</td>\n",
              "      <td>1521</td>\n",
              "      <td>1652</td>\n",
              "      <td>2075</td>\n",
              "      <td>141</td>\n",
              "      <td>620</td>\n",
              "      <td>807</td>\n",
              "      <td>507</td>\n",
              "      <td>367</td>\n",
              "    </tr>\n",
              "    <tr>\n",
              "      <th>4</th>\n",
              "      <td>$40K -  $50K</td>\n",
              "      <td>7529</td>\n",
              "      <td>2580</td>\n",
              "      <td>878</td>\n",
              "      <td>1694</td>\n",
              "      <td>1818</td>\n",
              "      <td>2703</td>\n",
              "      <td>170</td>\n",
              "      <td>743</td>\n",
              "      <td>1265</td>\n",
              "      <td>524</td>\n",
              "      <td>428</td>\n",
              "    </tr>\n",
              "    <tr>\n",
              "      <th>5</th>\n",
              "      <td>$50K - $70K</td>\n",
              "      <td>9545</td>\n",
              "      <td>4218</td>\n",
              "      <td>1603</td>\n",
              "      <td>2575</td>\n",
              "      <td>2045</td>\n",
              "      <td>2740</td>\n",
              "      <td>215</td>\n",
              "      <td>875</td>\n",
              "      <td>1014</td>\n",
              "      <td>635</td>\n",
              "      <td>542</td>\n",
              "    </tr>\n",
              "    <tr>\n",
              "      <th>6</th>\n",
              "      <td>$70K - $100K</td>\n",
              "      <td>10795</td>\n",
              "      <td>4322</td>\n",
              "      <td>1770</td>\n",
              "      <td>2460</td>\n",
              "      <td>2488</td>\n",
              "      <td>3259</td>\n",
              "      <td>282</td>\n",
              "      <td>990</td>\n",
              "      <td>1216</td>\n",
              "      <td>771</td>\n",
              "      <td>726</td>\n",
              "    </tr>\n",
              "    <tr>\n",
              "      <th>7</th>\n",
              "      <td>$100K -  $150K</td>\n",
              "      <td>14041</td>\n",
              "      <td>6397</td>\n",
              "      <td>3184</td>\n",
              "      <td>3103</td>\n",
              "      <td>2833</td>\n",
              "      <td>3807</td>\n",
              "      <td>392</td>\n",
              "      <td>1289</td>\n",
              "      <td>1064</td>\n",
              "      <td>1062</td>\n",
              "      <td>1005</td>\n",
              "    </tr>\n",
              "    <tr>\n",
              "      <th>8</th>\n",
              "      <td>$150K - $200</td>\n",
              "      <td>18753</td>\n",
              "      <td>7707</td>\n",
              "      <td>4727</td>\n",
              "      <td>2890</td>\n",
              "      <td>2974</td>\n",
              "      <td>6393</td>\n",
              "      <td>461</td>\n",
              "      <td>3088</td>\n",
              "      <td>1214</td>\n",
              "      <td>1630</td>\n",
              "      <td>1680</td>\n",
              "    </tr>\n",
              "    <tr>\n",
              "      <th>9</th>\n",
              "      <td>&gt; $200</td>\n",
              "      <td>23342</td>\n",
              "      <td>11212</td>\n",
              "      <td>6126</td>\n",
              "      <td>5007</td>\n",
              "      <td>3155</td>\n",
              "      <td>6052</td>\n",
              "      <td>438</td>\n",
              "      <td>2095</td>\n",
              "      <td>1700</td>\n",
              "      <td>1819</td>\n",
              "      <td>2923</td>\n",
              "    </tr>\n",
              "  </tbody>\n",
              "</table>\n",
              "</div>"
            ],
            "text/plain": [
              "                 Item Vehicle Vehicle Purchases Cars & Trucks, New  \\\n",
              "0  All consumer units    9576              4054               1900   \n",
              "1              > $15K    3401              1176                524   \n",
              "2        $15K -  $30K    4930              1966                804   \n",
              "3         $30K - $40K    7191              3097               1513   \n",
              "4        $40K -  $50K    7529              2580                878   \n",
              "5         $50K - $70K    9545              4218               1603   \n",
              "6        $70K - $100K   10795              4322               1770   \n",
              "7      $100K -  $150K   14041              6397               3184   \n",
              "8        $150K - $200   18753              7707               4727   \n",
              "9              > $200   23342             11212               6126   \n",
              "\n",
              "  Cars & Trucks, Used Gasoline Other expenses  Vehicle Finance Charges  \\\n",
              "0                2101     1968           2842                      220   \n",
              "1                 638      864           1110                       67   \n",
              "2                1148     1218           1462                       87   \n",
              "3                1521     1652           2075                      141   \n",
              "4                1694     1818           2703                      170   \n",
              "5                2575     2045           2740                      215   \n",
              "6                2460     2488           3259                      282   \n",
              "7                3103     2833           3807                      392   \n",
              "8                2890     2974           6393                      461   \n",
              "9                5007     3155           6052                      438   \n",
              "\n",
              "  Maintenance & Repair Vehicle Insurance Rental, Lease Public Transportation  \n",
              "0                  954               967           700                   712  \n",
              "1                  331               493           218                   252  \n",
              "2                  485               556           334                   284  \n",
              "3                  620               807           507                   367  \n",
              "4                  743              1265           524                   428  \n",
              "5                  875              1014           635                   542  \n",
              "6                  990              1216           771                   726  \n",
              "7                 1289              1064          1062                  1005  \n",
              "8                 3088              1214          1630                  1680  \n",
              "9                 2095              1700          1819                  2923  "
            ]
          },
          "metadata": {
            "tags": []
          },
          "execution_count": 49
        }
      ]
    },
    {
      "metadata": {
        "id": "tcurSqEbwVPD",
        "colab_type": "code",
        "colab": {}
      },
      "cell_type": "code",
      "source": [
        "vehicle.apply(pd.to_numeric)\n"
      ],
      "execution_count": 0,
      "outputs": []
    },
    {
      "metadata": {
        "id": "s7d9niNf53E4",
        "colab_type": "text"
      },
      "cell_type": "markdown",
      "source": [
        "###Crosstab###\n",
        "\n",
        "- I can't do it here because ugh!"
      ]
    },
    {
      "metadata": {
        "id": "OZ3tp0E1OrTY",
        "colab_type": "code",
        "colab": {}
      },
      "cell_type": "code",
      "source": [
        "vehicle = vehicle.reset_index()"
      ],
      "execution_count": 0,
      "outputs": []
    },
    {
      "metadata": {
        "id": "msDISKwiPHFJ",
        "colab_type": "code",
        "colab": {}
      },
      "cell_type": "code",
      "source": [
        "crosstab = pd.crosstab(vehicle['Item'], vehicle['Vehicle'], normalize='index')"
      ],
      "execution_count": 0,
      "outputs": []
    },
    {
      "metadata": {
        "id": "eEDWtH_XPTfl",
        "colab_type": "code",
        "colab": {}
      },
      "cell_type": "code",
      "source": [
        "table"
      ],
      "execution_count": 0,
      "outputs": []
    },
    {
      "metadata": {
        "id": "Wda4x5X4OM7D",
        "colab_type": "code",
        "colab": {}
      },
      "cell_type": "code",
      "source": [
        "table = pd.crosstab(vehicle['Item'], columns = ['Vehicle', 'Vehicle Purchases', 'Cars & Trucks, New', 'Cars & Trucks, Used', 'Gasoline', 'Other expenses', 'Vehicle Finance Charges', 'Maintenance & Repair',\n",
        "                             'Vehicle Insurance', 'Rental, Lease', 'Public Transportation'], normalize = True)"
      ],
      "execution_count": 0,
      "outputs": []
    },
    {
      "metadata": {
        "id": "CbmtfeD6OdbN",
        "colab_type": "code",
        "colab": {}
      },
      "cell_type": "code",
      "source": [
        "table"
      ],
      "execution_count": 0,
      "outputs": []
    },
    {
      "metadata": {
        "id": "S0c-loCKL_Yq",
        "colab_type": "code",
        "colab": {}
      },
      "cell_type": "code",
      "source": [
        "table = pd.crosstab(index = 'Item',\n",
        "                   columns = ['Vehicle', 'Vehicle Purchases', 'Cars & Trucks, New', 'Cars & Trucks, Used', 'Gasoline', 'Other expenses', 'Vehicle Finance Charges', 'Maintenance & Repair',\n",
        "                             'Vehicle Insurance', 'Rental, Lease', 'Public Transportation'])"
      ],
      "execution_count": 0,
      "outputs": []
    },
    {
      "metadata": {
        "id": "RTZRIse-Fuk0",
        "colab_type": "code",
        "colab": {}
      },
      "cell_type": "code",
      "source": [
        "vehicle.dtypes"
      ],
      "execution_count": 0,
      "outputs": []
    },
    {
      "metadata": {
        "id": "Tpxy-oLYFwMN",
        "colab_type": "code",
        "colab": {}
      },
      "cell_type": "code",
      "source": [
        "vehicle = vehicle.astype(str).astype(int)\n"
      ],
      "execution_count": 0,
      "outputs": []
    },
    {
      "metadata": {
        "id": "NJIvOvXCJYIu",
        "colab_type": "code",
        "colab": {}
      },
      "cell_type": "code",
      "source": [
        "vehicle.dtypes"
      ],
      "execution_count": 0,
      "outputs": []
    },
    {
      "metadata": {
        "id": "WNL9dXTsJghq",
        "colab_type": "code",
        "colab": {}
      },
      "cell_type": "code",
      "source": [
        "ax = crosstab_percent.plot()\n",
        "color_sequence = ['#1f77b4', '#aec7e8', '#ff7f0e']\n",
        "\n",
        "ax.set(yticks=range(0,110,25), facecolor='#f9f9f9')\n",
        "\n",
        "#axes.text is very flexible, \n",
        "ax.text(x=-2, y=110, s=\"Who Got To Be On 'The Daily Show?'\", fontsize = 14,\n",
        "       fontweight='bold');\n",
        "\n",
        "ax.text(x=-2, y=105, s='Occupation of guests, by year', fontsize=12);\n",
        "\n",
        "ax.tick_params(labelrotation=0)\n",
        "\n",
        "ax.text(2013, 12, s = 'Government and Politics')\n",
        "ax.text(2008, 50, s = 'Media')\n",
        "ax.text(2002, 80, s = 'Acting, Comedy & Music')\n"
      ],
      "execution_count": 0,
      "outputs": []
    },
    {
      "metadata": {
        "id": "esGrvjeoJZdL",
        "colab_type": "code",
        "colab": {}
      },
      "cell_type": "code",
      "source": [
        "plot = vehicle['Vehicle'].plot.bar(color = 'Teal')\n",
        "plot2 = vehicle['Vehicle Purchases'].plot.bar(color = 'Pink')\n",
        "plot.tick_params(labelrotation=0)"
      ],
      "execution_count": 0,
      "outputs": []
    },
    {
      "metadata": {
        "id": "lfN5_-puF-FO",
        "colab_type": "code",
        "colab": {}
      },
      "cell_type": "code",
      "source": [
        "link = 'https://raw.githubusercontent.com/Hira63S/Project-1/master/Income%20percentage.csv'"
      ],
      "execution_count": 0,
      "outputs": []
    },
    {
      "metadata": {
        "id": "i-I9IokIF-Ay",
        "colab_type": "code",
        "colab": {}
      },
      "cell_type": "code",
      "source": [
        "percent = pd.read_csv(link)"
      ],
      "execution_count": 0,
      "outputs": []
    },
    {
      "metadata": {
        "id": "byoy-OSiJFTy",
        "colab_type": "code",
        "colab": {
          "base_uri": "https://localhost:8080/",
          "height": 322
        },
        "outputId": "016244b3-3c18-48fa-d5eb-d86b8443f706"
      },
      "cell_type": "code",
      "source": [
        "food = percent.plot.bar(x = 'Item', y = 'Food', color = '#ff7f0e')"
      ],
      "execution_count": 76,
      "outputs": [
        {
          "output_type": "display_data",
          "data": {
            "image/png": "[encoded data removed]",
            "text/plain": [
              "<Figure size 432x288 with 1 Axes>"
            ]
          },
          "metadata": {
            "tags": []
          }
        }
      ]
    },
    {
      "metadata": {
        "id": "cunECHKSJUTb",
        "colab_type": "code",
        "colab": {
          "base_uri": "https://localhost:8080/",
          "height": 322
        },
        "outputId": "d7d0ce0e-48dc-489d-cd79-d4806143479b"
      },
      "cell_type": "code",
      "source": [
        "Alcohol = percent.plot.bar(x='Item', y='Alcohol', color = '#aec7e8')"
      ],
      "execution_count": 77,
      "outputs": [
        {
          "output_type": "display_data",
          "data": {
            "image/png": "[encoded data removed]",
            "text/plain": [
              "<Figure size 432x288 with 1 Axes>"
            ]
          },
          "metadata": {
            "tags": []
          }
        }
      ]
    },
    {
      "metadata": {
        "id": "TtdFzwpuJvcx",
        "colab_type": "code",
        "colab": {
          "base_uri": "https://localhost:8080/",
          "height": 322
        },
        "outputId": "eb08606e-e4d3-47b8-c7b7-3faccba193d0"
      },
      "cell_type": "code",
      "source": [
        "Housing = percent.plot.bar(x = 'Item', y = 'Housing', color = '#1f77b4')"
      ],
      "execution_count": 78,
      "outputs": [
        {
          "output_type": "display_data",
          "data": {
            "image/png": "[encoded data removed]",
            "text/plain": [
              "<Figure size 432x288 with 1 Axes>"
            ]
          },
          "metadata": {
            "tags": []
          }
        }
      ]
    },
    {
      "metadata": {
        "id": "Ns0MlxUUJpt8",
        "colab_type": "code",
        "colab": {
          "base_uri": "https://localhost:8080/",
          "height": 322
        },
        "outputId": "bddb6e58-3079-4ff9-f845-115a175f7ed1"
      },
      "cell_type": "code",
      "source": [
        "Apparel = percent.plot.bar(x = 'Item', y = 'Apparel', color = '#16AABD')"
      ],
      "execution_count": 79,
      "outputs": [
        {
          "output_type": "display_data",
          "data": {
            "image/png": "[encoded data removed]",
            "text/plain": [
              "<Figure size 432x288 with 1 Axes>"
            ]
          },
          "metadata": {
            "tags": []
          }
        }
      ]
    },
    {
      "metadata": {
        "id": "WBofbXIpUts6",
        "colab_type": "code",
        "colab": {
          "base_uri": "https://localhost:8080/",
          "height": 322
        },
        "outputId": "a5338dad-4a83-42c2-c190-19907cf95104"
      },
      "cell_type": "code",
      "source": [
        "Transportation = percent.plot.bar(x='Item', y='Transportation', color = '#9E6BE1')"
      ],
      "execution_count": 80,
      "outputs": [
        {
          "output_type": "display_data",
          "data": {
            "image/png": "[encoded data removed]",
            "text/plain": [
              "<Figure size 432x288 with 1 Axes>"
            ]
          },
          "metadata": {
            "tags": []
          }
        }
      ]
    },
    {
      "metadata": {
        "id": "TaN0vIy8U3wz",
        "colab_type": "code",
        "colab": {
          "base_uri": "https://localhost:8080/",
          "height": 322
        },
        "outputId": "a1bc3839-d1e8-41fe-ad56-6dada1525cfb"
      },
      "cell_type": "code",
      "source": [
        "Healthcare = percent.plot.bar(x='Item', y='Healthcare', color = '#F279AE')"
      ],
      "execution_count": 81,
      "outputs": [
        {
          "output_type": "display_data",
          "data": {
            "image/png": "[encoded data removed]",
            "text/plain": [
              "<Figure size 432x288 with 1 Axes>"
            ]
          },
          "metadata": {
            "tags": []
          }
        }
      ]
    },
    {
      "metadata": {
        "id": "NSj6OXKyVytr",
        "colab_type": "code",
        "colab": {
          "base_uri": "https://localhost:8080/",
          "height": 322
        },
        "outputId": "759acc6b-adf8-4c58-a383-95c14cd4da2f"
      },
      "cell_type": "code",
      "source": [
        "Entertainment = percent.plot.bar(x='Item', y ='Entertainment', color = '#F99042')"
      ],
      "execution_count": 82,
      "outputs": [
        {
          "output_type": "display_data",
          "data": {
            "image/png": "[encoded data removed]",
            "text/plain": [
              "<Figure size 432x288 with 1 Axes>"
            ]
          },
          "metadata": {
            "tags": []
          }
        }
      ]
    },
    {
      "metadata": {
        "id": "LAB4MWkPV8k6",
        "colab_type": "code",
        "colab": {
          "base_uri": "https://localhost:8080/",
          "height": 322
        },
        "outputId": "dec3e92c-295f-43ed-f88b-941efb0ba5e4"
      },
      "cell_type": "code",
      "source": [
        "care_products = percent.plot.bar(x='Item', y ='Personal Care Products', color = '#73C51A')"
      ],
      "execution_count": 83,
      "outputs": [
        {
          "output_type": "display_data",
          "data": {
            "image/png": "[encoded data removed]",
            "text/plain": [
              "<Figure size 432x288 with 1 Axes>"
            ]
          },
          "metadata": {
            "tags": []
          }
        }
      ]
    },
    {
      "metadata": {
        "id": "O1bdfpmHWIir",
        "colab_type": "code",
        "colab": {
          "base_uri": "https://localhost:8080/",
          "height": 322
        },
        "outputId": "e720532a-c89e-4dd9-94e6-e60d8a4ce6dd"
      },
      "cell_type": "code",
      "source": [
        "Reading = percent.plot.bar(x='Item', y= 'Reading', color ='#17BDBD')"
      ],
      "execution_count": 86,
      "outputs": [
        {
          "output_type": "display_data",
          "data": {
            "image/png": "[encoded data removed]",
            "text/plain": [
              "<Figure size 432x288 with 1 Axes>"
            ]
          },
          "metadata": {
            "tags": []
          }
        }
      ]
    },
    {
      "metadata": {
        "id": "fIqYp2CnWYgs",
        "colab_type": "code",
        "colab": {
          "base_uri": "https://localhost:8080/",
          "height": 322
        },
        "outputId": "153c541d-5a8d-49ed-9124-b63af2b8dbc7"
      },
      "cell_type": "code",
      "source": [
        "Education = percent.plot.bar(x='Item', y= 'Education', color ='#436FC5')"
      ],
      "execution_count": 87,
      "outputs": [
        {
          "output_type": "display_data",
          "data": {
            "image/png": "[encoded data removed]",
            "text/plain": [
              "<Figure size 432x288 with 1 Axes>"
            ]
          },
          "metadata": {
            "tags": []
          }
        }
      ]
    },
    {
      "metadata": {
        "id": "HI2TH0X4WhuM",
        "colab_type": "code",
        "colab": {
          "base_uri": "https://localhost:8080/",
          "height": 322
        },
        "outputId": "bc86ba90-c9a9-4786-d181-759254b3ef87"
      },
      "cell_type": "code",
      "source": [
        "Personal_insurance = percent.plot.bar(x='Item', y='Personal Insurance', color = '#C48CED')"
      ],
      "execution_count": 89,
      "outputs": [
        {
          "output_type": "display_data",
          "data": {
            "image/png": "[encoded data removed]",
            "text/plain": [
              "<Figure size 432x288 with 1 Axes>"
            ]
          },
          "metadata": {
            "tags": []
          }
        }
      ]
    },
    {
      "metadata": {
        "id": "zCUpEsQfYI5B",
        "colab_type": "code",
        "colab": {
          "base_uri": "https://localhost:8080/",
          "height": 671
        },
        "outputId": "214d0e05-4c2b-473a-dbea-400c110ced2a"
      },
      "cell_type": "code",
      "source": [
        "from IPython.display import IFrame\n",
        "IFrame(src= \"https://dash-simple-apps.plotly.host/dash-barplot/\", width=\"100%\", height=\"650px\", frameBorder=\"0\")"
      ],
      "execution_count": 90,
      "outputs": [
        {
          "output_type": "execute_result",
          "data": {
            "text/html": [
              "\n",
              "        <iframe\n",
              "            width=\"100%\"\n",
              "            height=\"650px\"\n",
              "            src=\"https://dash-simple-apps.plotly.host/dash-barplot/?frameBorder=0\"\n",
              "            frameborder=\"0\"\n",
              "            allowfullscreen\n",
              "        ></iframe>\n",
              "        "
            ],
            "text/plain": [
              "<IPython.lib.display.IFrame at 0x7fcb27f189b0>"
            ]
          },
          "metadata": {
            "tags": []
          },
          "execution_count": 90
        }
      ]
    },
    {
      "metadata": {
        "id": "7wTQNkieF92e",
        "colab_type": "code",
        "colab": {
          "base_uri": "https://localhost:8080/",
          "height": 195
        },
        "outputId": "f4ba546c-a333-4002-fe2c-8d1f702f7a1e"
      },
      "cell_type": "code",
      "source": [
        "percent.head()"
      ],
      "execution_count": 68,
      "outputs": [
        {
          "output_type": "execute_result",
          "data": {
            "text/html": [
              "<div>\n",
              "<style scoped>\n",
              "    .dataframe tbody tr th:only-of-type {\n",
              "        vertical-align: middle;\n",
              "    }\n",
              "\n",
              "    .dataframe tbody tr th {\n",
              "        vertical-align: top;\n",
              "    }\n",
              "\n",
              "    .dataframe thead th {\n",
              "        text-align: right;\n",
              "    }\n",
              "</style>\n",
              "<table border=\"1\" class=\"dataframe\">\n",
              "  <thead>\n",
              "    <tr style=\"text-align: right;\">\n",
              "      <th></th>\n",
              "      <th>Item</th>\n",
              "      <th>Food</th>\n",
              "      <th>Alcohol</th>\n",
              "      <th>Housing</th>\n",
              "      <th>Apparel</th>\n",
              "      <th>Transportation</th>\n",
              "      <th>Healthcare</th>\n",
              "      <th>Entertainment</th>\n",
              "      <th>Personal Care Products</th>\n",
              "      <th>Reading</th>\n",
              "      <th>Education</th>\n",
              "      <th>Personal Insurance</th>\n",
              "    </tr>\n",
              "  </thead>\n",
              "  <tbody>\n",
              "    <tr>\n",
              "      <th>0</th>\n",
              "      <td>All\\nconsumer\\nunits</td>\n",
              "      <td>12.151369</td>\n",
              "      <td>0.877276</td>\n",
              "      <td>31.261202</td>\n",
              "      <td>2.881804</td>\n",
              "      <td>15.055183</td>\n",
              "      <td>7.747697</td>\n",
              "      <td>5.035688</td>\n",
              "      <td>1.198000</td>\n",
              "      <td>0.172940</td>\n",
              "      <td>2.344118</td>\n",
              "      <td>10.645222</td>\n",
              "    </tr>\n",
              "    <tr>\n",
              "      <th>1</th>\n",
              "      <td>Less\\nthan\\n$15,000</td>\n",
              "      <td>47.855146</td>\n",
              "      <td>1.980800</td>\n",
              "      <td>118.884433</td>\n",
              "      <td>10.693887</td>\n",
              "      <td>41.329445</td>\n",
              "      <td>26.649654</td>\n",
              "      <td>15.360311</td>\n",
              "      <td>4.083121</td>\n",
              "      <td>0.558999</td>\n",
              "      <td>10.936930</td>\n",
              "      <td>6.562158</td>\n",
              "    </tr>\n",
              "    <tr>\n",
              "      <th>2</th>\n",
              "      <td>$15,000\\nto\\n$29,999</td>\n",
              "      <td>20.720876</td>\n",
              "      <td>0.905407</td>\n",
              "      <td>55.259981</td>\n",
              "      <td>4.320083</td>\n",
              "      <td>21.255497</td>\n",
              "      <td>14.486505</td>\n",
              "      <td>6.721566</td>\n",
              "      <td>2.078124</td>\n",
              "      <td>0.245753</td>\n",
              "      <td>2.164353</td>\n",
              "      <td>6.993188</td>\n",
              "    </tr>\n",
              "    <tr>\n",
              "      <th>3</th>\n",
              "      <td>$30,000\\nto\\n$39,999</td>\n",
              "      <td>16.912674</td>\n",
              "      <td>0.877572</td>\n",
              "      <td>41.965185</td>\n",
              "      <td>3.786506</td>\n",
              "      <td>20.690548</td>\n",
              "      <td>12.225579</td>\n",
              "      <td>5.593440</td>\n",
              "      <td>1.441519</td>\n",
              "      <td>0.192778</td>\n",
              "      <td>1.102000</td>\n",
              "      <td>7.843476</td>\n",
              "    </tr>\n",
              "    <tr>\n",
              "      <th>4</th>\n",
              "      <td>$40,000\\nto\\n$49,999</td>\n",
              "      <td>15.282700</td>\n",
              "      <td>0.859333</td>\n",
              "      <td>37.560512</td>\n",
              "      <td>3.131587</td>\n",
              "      <td>17.439140</td>\n",
              "      <td>10.557524</td>\n",
              "      <td>4.975332</td>\n",
              "      <td>1.531049</td>\n",
              "      <td>0.182985</td>\n",
              "      <td>1.125704</td>\n",
              "      <td>7.977208</td>\n",
              "    </tr>\n",
              "  </tbody>\n",
              "</table>\n",
              "</div>"
            ],
            "text/plain": [
              "                   Item       Food   Alcohol     Housing    Apparel  \\\n",
              "0  All\\nconsumer\\nunits  12.151369  0.877276   31.261202   2.881804   \n",
              "1   Less\\nthan\\n$15,000  47.855146  1.980800  118.884433  10.693887   \n",
              "2  $15,000\\nto\\n$29,999  20.720876  0.905407   55.259981   4.320083   \n",
              "3  $30,000\\nto\\n$39,999  16.912674  0.877572   41.965185   3.786506   \n",
              "4  $40,000\\nto\\n$49,999  15.282700  0.859333   37.560512   3.131587   \n",
              "\n",
              "   Transportation  Healthcare  Entertainment  Personal Care Products  \\\n",
              "0       15.055183    7.747697       5.035688                1.198000   \n",
              "1       41.329445   26.649654      15.360311                4.083121   \n",
              "2       21.255497   14.486505       6.721566                2.078124   \n",
              "3       20.690548   12.225579       5.593440                1.441519   \n",
              "4       17.439140   10.557524       4.975332                1.531049   \n",
              "\n",
              "    Reading  Education  Personal Insurance  \n",
              "0  0.172940   2.344118           10.645222  \n",
              "1  0.558999  10.936930            6.562158  \n",
              "2  0.245753   2.164353            6.993188  \n",
              "3  0.192778   1.102000            7.843476  \n",
              "4  0.182985   1.125704            7.977208  "
            ]
          },
          "metadata": {
            "tags": []
          },
          "execution_count": 68
        }
      ]
    },
    {
      "metadata": {
        "id": "djj65admGEnX",
        "colab_type": "code",
        "colab": {
          "base_uri": "https://localhost:8080/",
          "height": 331
        },
        "outputId": "0905e855-1dbb-4394-a4f4-7f4da747d942"
      },
      "cell_type": "code",
      "source": [
        "ax = percent.plot.bar(x = 'Item')\n",
        "ax.set(yticks = range(0, 120, 20), facecolor = '#f9f9f9')\n",
        "ax.text(x = -2, y =135, s='What did Americans spent their income on?', fontsize = 14, fontweight = 'bold');\n",
        "ax.text(x=-2, y = 128, s = 'Shown in Percentage of Income', fontsize = 12);\n",
        "ax.tick_params(labelrotation=0)"
      ],
      "execution_count": 73,
      "outputs": [
        {
          "output_type": "display_data",
          "data": {
            "image/png": "[encoded data removed]",
            "text/plain": [
              "<Figure size 432x288 with 1 Axes>"
            ]
          },
          "metadata": {
            "tags": []
          }
        }
      ]
    },
    {
      "metadata": {
        "id": "i73GVPMHHxez",
        "colab_type": "code",
        "colab": {}
      },
      "cell_type": "code",
      "source": [
        "ax = crosstab_percent.plot()\n",
        "color_sequence = ['#1f77b4', '#aec7e8', '#ff7f0e']\n",
        "\n",
        "ax.set(yticks=range(0,110,25), facecolor='#f9f9f9')\n",
        "\n",
        "#axes.text is very flexible, \n",
        "ax.text(x=-2, y=110, s=\"Who Got To Be On 'The Daily Show?'\", fontsize = 14,\n",
        "       fontweight='bold');\n",
        "\n",
        "ax.text(x=-2, y=105, s='Occupation of guests, by year', fontsize=12);\n",
        "\n",
        "ax.tick_params(labelrotation=0)\n",
        "\n",
        "ax.text(2013, 12, s = 'Government and Politics')\n",
        "ax.text(2008, 50, s = 'Media')\n",
        "ax.text(2002, 80, s = 'Acting, Comedy & Music')"
      ],
      "execution_count": 0,
      "outputs": []
    }
  ]
}